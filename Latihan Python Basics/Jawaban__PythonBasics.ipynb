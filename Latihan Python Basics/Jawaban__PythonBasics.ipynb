{
  "cells": [
    {
      "cell_type": "markdown",
      "metadata": {
        "id": "dSgTvAhyM1PF"
      },
      "source": [
        "# Python Basics\n",
        "\n",
        "---"
      ]
    },
    {
      "cell_type": "markdown",
      "metadata": {},
      "source": [
        "## Isi File\n",
        "---"
      ]
    },
    {
      "cell_type": "markdown",
      "metadata": {
        "id": "0RCmTXukM9Sl"
      },
      "source": [
        "Jadi seluruh isi dari soal ini akan berdasarkan materi:\n",
        "- Input and Output\n",
        "- Variables\n",
        "- Operators\n",
        "- Keywords\n",
        "- Data Types\n",
        "- Conditional Statements\n",
        "- Python Loops\n",
        "\n",
        "Referensi diambil dari: https://www.geeksforgeeks.org/python-programming-language-tutorial/\n",
        "\n",
        "Nanti nya akan ada latihan soal CPC dari level mudah - extreme yang bisa dicoba <br>\n",
        "Selain itu juga akan ada pengenalan 10 algoritma seperti:\n",
        "1. Linear Search\n",
        "2. \tCounting Frequency\n",
        "3.\tMaximum/Minimum Finder\n",
        "4.\tSummation\n",
        "5.\tAverage\n",
        "6.\tEven/Odd Classifier\n",
        "7.\tSimple Pattern Builder\n",
        "8.\tBasic Sorting (Manual)\n",
        "9.\tFilter with Condition\n",
        "10.\tFlag-based Decision\n",
        "\n",
        "Beserta penjelasan pada masing-masing algoritma dan latihan soalnya"
      ]
    },
    {
      "cell_type": "markdown",
      "metadata": {
        "id": "11vBcJ_WOP31"
      },
      "source": [
        "## 10 Soal CPC-Level Mudah\n",
        "\n",
        "Semua soal ini sudah cukup untuk mengasah:\n",
        "\n",
        "- Input/output\n",
        "- Variabel\n",
        "- Operator dasar\n",
        "- Kondisional sederhana\n",
        "- Perulangan dasar"
      ]
    },
    {
      "cell_type": "markdown",
      "metadata": {
        "id": "0udcpFmUOXui"
      },
      "source": [
        "### Soal 1: Mesin Penjual Otomatis\n",
        "\n",
        "---"
      ]
    },
    {
      "cell_type": "markdown",
      "metadata": {
        "id": "oxe3oSNJOozA"
      },
      "source": [
        "Sebuah mesin penjual otomatis menerima jumlah uang dari pembeli dan menampilkan apakah cukup untuk membeli teh seharga 5000 rupiah. <br> <br>\n",
        "```\n",
        "Input:\n",
        "6000\n",
        "\n",
        "Output:\n",
        "Uang cukup, teh berhasil dibeli.\n",
        "```\n",
        "```\n",
        "Input:\n",
        "4000\n",
        "\n",
        "Output:\n",
        "Uang tidak cukup.\n",
        "```"
      ]
    },
    {
      "cell_type": "code",
      "execution_count": 2,
      "metadata": {
        "id": "UgAAxXW9QVTB"
      },
      "outputs": [
        {
          "name": "stdout",
          "output_type": "stream",
          "text": [
            "Uang tidak cukup.\n"
          ]
        }
      ],
      "source": [
        "user_input = int(input(\"Input some cost: \\n\"))\n",
        "tea_cost = 5000\n",
        "\n",
        "low_price = user_input < tea_cost\n",
        "pass_cost = user_input >= tea_cost\n",
        "\n",
        "if pass_cost:\n",
        "    print(\"Uang cukup, teh berhasil dibeli.\")\n",
        "elif low_price:\n",
        "    print(\"Uang tidak cukup.\")"
      ]
    },
    {
      "cell_type": "markdown",
      "metadata": {
        "id": "83XDGr9MQNAC"
      },
      "source": [
        "### Soal 2: Ganjil atau Genap?\n",
        "\n",
        "---"
      ]
    },
    {
      "cell_type": "markdown",
      "metadata": {
        "id": "7N05vOsoQcU-"
      },
      "source": [
        "Aldi ingin tahu apakah angka yang dimasukkannya adalah bilangan ganjil atau genap.\n",
        "\n",
        "```\n",
        "Input:\n",
        "11\n",
        "\n",
        "Output:\n",
        "Ganjil\n",
        "```\n",
        "```\n",
        "Input:\n",
        "44\n",
        "\n",
        "Output:\n",
        "Genap\n",
        "```"
      ]
    },
    {
      "cell_type": "code",
      "execution_count": 5,
      "metadata": {
        "id": "hUW-B7SzMilI"
      },
      "outputs": [
        {
          "name": "stdout",
          "output_type": "stream",
          "text": [
            "Ganjil\n"
          ]
        }
      ],
      "source": [
        "andi_input = int(input(\"Input an integer:\\n\"))\n",
        "\n",
        "genap = andi_input % 2 == 0\n",
        "ganjil = andi_input % 2 != 0\n",
        "\n",
        "if genap:\n",
        "    print(\"Genap\")\n",
        "elif ganjil:\n",
        "    print(\"Ganjil\")"
      ]
    },
    {
      "cell_type": "markdown",
      "metadata": {
        "id": "36WeQ7pdSYAy"
      },
      "source": [
        "### Soal 3: Ulang Nama\n",
        "\n",
        "---"
      ]
    },
    {
      "cell_type": "markdown",
      "metadata": {
        "id": "506xYR9GSb2p"
      },
      "source": [
        "Sinta ingin mencetak namanya sebanyak n kali.\n",
        "```\n",
        "Input:\n",
        "Sinta\n",
        "3\n",
        "```\n",
        "```\n",
        "Output:\n",
        "Sinta\n",
        "Sinta\n",
        "Sinta\n",
        "```"
      ]
    },
    {
      "cell_type": "code",
      "execution_count": 8,
      "metadata": {
        "id": "uCOujbDZSvFo"
      },
      "outputs": [
        {
          "name": "stdout",
          "output_type": "stream",
          "text": [
            "Sinta\n",
            "Sinta\n",
            "Sinta\n"
          ]
        }
      ],
      "source": [
        "name = input(\"Input your name: \\n\")\n",
        "\n",
        "for _ in range(3):\n",
        "    print(name)"
      ]
    },
    {
      "cell_type": "markdown",
      "metadata": {
        "id": "po0pykDZSvca"
      },
      "source": [
        "### Soal 4: Menukar Nilai\n",
        "\n",
        "---"
      ]
    },
    {
      "cell_type": "markdown",
      "metadata": {
        "id": "ytYXqVfvSy0j"
      },
      "source": [
        "Tukarkan dua angka yang dimasukkan oleh pengguna.\n",
        "\n",
        "```\n",
        "Input:\n",
        "10\n",
        "20\n",
        "\n",
        "Output:\n",
        "Nilai setelah ditukar: 20 10\n",
        "```"
      ]
    },
    {
      "cell_type": "code",
      "execution_count": 14,
      "metadata": {
        "id": "F249ZMKHTBDx"
      },
      "outputs": [
        {
          "name": "stdout",
          "output_type": "stream",
          "text": [
            "Nilai sebelum ditukar: 10 20\n",
            "Nilai setelah ditukar: 20 10\n"
          ]
        }
      ],
      "source": [
        "input1 = int(input(\"Input first integer:\\n\"))\n",
        "input2 = int(input(\"Input second integer:\\n\"))\n",
        "\n",
        "print(\"Nilai sebelum ditukar:\", input1, input2)\n",
        "\n",
        "input1, input2 = input2, input1\n",
        "\n",
        "print(\"Nilai setelah ditukar:\", input1, input2)"
      ]
    },
    {
      "cell_type": "markdown",
      "metadata": {
        "id": "z4JQHS4DTBki"
      },
      "source": [
        "### Soal 5: Menyapa Pengunjung\n",
        "\n",
        "---"
      ]
    },
    {
      "cell_type": "markdown",
      "metadata": {
        "id": "HRVTYdWATGlD"
      },
      "source": [
        "Buat program yang menyapa pengunjung berdasarkan nama yang dimasukkan.\n",
        "```\n",
        "Input:\n",
        "Farhan\n",
        "\n",
        "Output:\n",
        "Halo, Farhan! Selamat datang.\n",
        "```"
      ]
    },
    {
      "cell_type": "code",
      "execution_count": 15,
      "metadata": {
        "id": "WR1m3GhCTgAg"
      },
      "outputs": [
        {
          "name": "stdout",
          "output_type": "stream",
          "text": [
            "Halo Farhan! Selamat datang.\n"
          ]
        }
      ],
      "source": [
        "user_name = input(\"Input your name: \")\n",
        "print(\"Halo\" + \" \" + user_name + \"! Selamat datang.\")"
      ]
    },
    {
      "cell_type": "markdown",
      "metadata": {
        "id": "zBkci12qTdgC"
      },
      "source": [
        "### Soal 6: Penjumlahan Tiga Angka\n",
        "\n",
        "---"
      ]
    },
    {
      "cell_type": "markdown",
      "metadata": {
        "id": "IIKZhguHThua"
      },
      "source": [
        "Hitung hasil penjumlahan dari tiga angka bulat.\n",
        "\n",
        "```\n",
        "Input:\n",
        "3\n",
        "5\n",
        "2\n",
        "\n",
        "Output:\n",
        "Jumlah: 10\n",
        "```"
      ]
    },
    {
      "cell_type": "code",
      "execution_count": 16,
      "metadata": {
        "id": "5AEPH8dATliy"
      },
      "outputs": [
        {
          "name": "stdout",
          "output_type": "stream",
          "text": [
            "Jumlah: 10\n"
          ]
        }
      ],
      "source": [
        "count = 0\n",
        "for _ in range(3):\n",
        "    user_input = int(input(\"Input an integer: \\n\"))\n",
        "    count += user_input\n",
        "\n",
        "print(\"Jumlah:\", count)"
      ]
    },
    {
      "cell_type": "markdown",
      "metadata": {
        "id": "hcYigGJITqd3"
      },
      "source": [
        "### Soal 7: Luas Persegi\n",
        "\n",
        "---"
      ]
    },
    {
      "cell_type": "markdown",
      "metadata": {
        "id": "qH72CRXlUpRk"
      },
      "source": [
        "Hitung luas dari sebuah persegi dengan panjang sisi s.\n",
        "```\n",
        "Input:\n",
        "6\n",
        "\n",
        "Output:\n",
        "Luas persegi: 36\n",
        "```"
      ]
    },
    {
      "cell_type": "code",
      "execution_count": 17,
      "metadata": {
        "id": "JfwN-5gWUuoY"
      },
      "outputs": [
        {
          "name": "stdout",
          "output_type": "stream",
          "text": [
            "Luas persegi: 36\n"
          ]
        }
      ],
      "source": [
        "number_square = int(input(\"Input an integer:\\n\"))\n",
        "print(\"Luas persegi:\", number_square * number_square)"
      ]
    },
    {
      "cell_type": "markdown",
      "metadata": {
        "id": "iqU0qjVpUvOj"
      },
      "source": [
        "### Soal 8: Umurmu Tahun Ini\n",
        "---"
      ]
    },
    {
      "cell_type": "markdown",
      "metadata": {
        "id": "KLEdfREfU12H"
      },
      "source": [
        "Rudi ingin menghitung umurnya di tahun ini berdasarkan tahun lahir.\n",
        "```\n",
        "Input:\n",
        "2004\n",
        "\n",
        "Output:\n",
        "Umurmu sekarang: 21\n",
        "(Asumsi tahun saat ini adalah 2025)\n",
        "```"
      ]
    },
    {
      "cell_type": "code",
      "execution_count": 23,
      "metadata": {
        "id": "M0JgF7ytU8lZ"
      },
      "outputs": [
        {
          "name": "stdout",
          "output_type": "stream",
          "text": [
            "Umurmu sekarang: 21\n"
          ]
        }
      ],
      "source": [
        "rudi_birth = int(input(\"input a year:\\n\"))\n",
        "now = 2025\n",
        "\n",
        "if rudi_birth > 2025:\n",
        "    print(\"Kamu belum lahir bang\")\n",
        "else:\n",
        "    print(\"Umurmu sekarang:\", now - rudi_birth)"
      ]
    },
    {
      "cell_type": "markdown",
      "metadata": {
        "id": "Mxa-us3IVADc"
      },
      "source": [
        "### Soal 9: Apakah Bilangan Negatif?\n",
        "\n",
        "---"
      ]
    },
    {
      "cell_type": "markdown",
      "metadata": {
        "id": "o_gpb5N4VDZd"
      },
      "source": [
        "Tentukan apakah bilangan yang diinput adalah bilangan negatif.\n",
        "\n",
        "```\n",
        "Input:\n",
        "-3\n",
        "\n",
        "Output:\n",
        "Bilangan negatif\n",
        "```\n",
        "```\n",
        "Input:\n",
        "7\n",
        "\n",
        "Output:\n",
        "Bukan bilangan negatif\n",
        "```"
      ]
    },
    {
      "cell_type": "code",
      "execution_count": 28,
      "metadata": {
        "id": "66ZFMJaHVakf"
      },
      "outputs": [
        {
          "name": "stdout",
          "output_type": "stream",
          "text": [
            "Bilangan negatif\n"
          ]
        }
      ],
      "source": [
        "negative = int(input(\"input an integer:\\n\"))\n",
        "\n",
        "if negative < 0:\n",
        "    print(\"Bilangan negatif\")\n",
        "else:\n",
        "    print(\"Bukan negatif\")"
      ]
    },
    {
      "cell_type": "markdown",
      "metadata": {
        "id": "GqZLaOPBVa7a"
      },
      "source": [
        "### Soal 10: Menampilkan Karakter Pertama dan Terakhir\n",
        "---"
      ]
    },
    {
      "cell_type": "markdown",
      "metadata": {
        "id": "AkwMKzxdVdzj"
      },
      "source": [
        "Ambil karakter pertama dan terakhir dari nama pengguna.\n",
        "```\n",
        "Input:\n",
        "Aurelia\n",
        "\n",
        "Output:\n",
        "Karakter pertama: A\n",
        "Karakter terakhir: a\n",
        "```"
      ]
    },
    {
      "cell_type": "code",
      "execution_count": 32,
      "metadata": {},
      "outputs": [
        {
          "name": "stdout",
          "output_type": "stream",
          "text": [
            "Karakter pertama: A\n",
            "Karakter terakhir: a\n"
          ]
        }
      ],
      "source": [
        "name = input(\"Input a name:\\n\")\n",
        "\n",
        "index = 0\n",
        "length = 0\n",
        "for _ in name:\n",
        "    length += 1\n",
        "\n",
        "first_char = \"\"\n",
        "last_char = \"\"\n",
        "\n",
        "for char in name:\n",
        "    if index == 0:\n",
        "        first_char += char\n",
        "        index += 1\n",
        "    if index == length:\n",
        "        last_char += char\n",
        "    else:\n",
        "        index += 1\n",
        "\n",
        "print(\"Karakter pertama:\", first_char)\n",
        "print(\"Karakter terakhir:\", last_char) "
      ]
    },
    {
      "cell_type": "markdown",
      "metadata": {},
      "source": [
        "## 5 Soal CPC-Level Medium\n",
        " Dibuat berbasis cerita (studi kasus). Tingkat kesulitan naik sedikit: \n",
        " - kombinasi logika \n",
        " - kondisi \n",
        " - perulangan mulai lebih kompleks \n",
        " \n",
        " Semua soal ini cocok untuk mengasah logika perulangan, list, kondisi bertingkat, dan format output.\n"
      ]
    },
    {
      "cell_type": "markdown",
      "metadata": {},
      "source": [
        "### Soal 1: Pemilihan Ketua OSIS\n",
        "\n",
        "---"
      ]
    },
    {
      "cell_type": "markdown",
      "metadata": {},
      "source": [
        "Di sekolah, terdapat 3 kandidat Ketua OSIS: A, B, dan C. Setiap siswa memberikan suaranya dengan memilih satu huruf kapital (A, B, atau C). Buat program yang menerima daftar suara, lalu mencetak siapa yang menang (yang mendapat suara terbanyak). Jika ada seri, tulis \"Pemilihan ulang diperlukan\".\n",
        "\n",
        "```\n",
        "Input:\n",
        "7\n",
        "A\n",
        "B\n",
        "A\n",
        "C\n",
        "B\n",
        "B\n",
        "A\n",
        "Output:\n",
        "Pemenang: B\n",
        "```\n",
        "```\n",
        "Input:\n",
        "4\n",
        "A\n",
        "B\n",
        "A\n",
        "B\n",
        "Output:\n",
        "Pemilihan ulang diperlukan\n",
        "```"
      ]
    },
    {
      "cell_type": "code",
      "execution_count": 17,
      "metadata": {},
      "outputs": [
        {
          "name": "stdout",
          "output_type": "stream",
          "text": [
            "B\n",
            "A\n",
            "C\n",
            "C\n",
            "C\n",
            "A\n",
            "A\n",
            "Pemilihan ulang diperlukan\n"
          ]
        }
      ],
      "source": [
        "import random\n",
        "\n",
        "random_choice = \"ABC\" \n",
        "loop = int(input(\"Input an integer for loop:\\n\"))\n",
        "\n",
        "A = 0\n",
        "B = 0\n",
        "C = 0\n",
        "\n",
        "for _ in range(loop):\n",
        "    choice = random.choice(random_choice)\n",
        "    print(choice)\n",
        "    if choice == \"A\":\n",
        "        A += 1\n",
        "    elif choice == \"B\":\n",
        "        B += 1\n",
        "    elif choice == \"C\":\n",
        "        C += 1\n",
        "\n",
        "if A > B and A > C:\n",
        "    print(\"Pemenang: A\")\n",
        "elif B > A and B > C:\n",
        "    print(\"Pemenang: B\")\n",
        "elif C > A and C > B:\n",
        "    print(\"Pemenang: C\")\n",
        "else:\n",
        "    print(\"Pemilihan ulang diperlukan\")"
      ]
    },
    {
      "cell_type": "markdown",
      "metadata": {},
      "source": [
        "### Soal 2: Filter Pesanan Makanan\n",
        "---"
      ]
    },
    {
      "cell_type": "markdown",
      "metadata": {},
      "source": [
        "Sebuah restoran menerima pesanan dalam bentuk nama makanan dan harganya. Pemilik ingin melihat semua makanan yang harganya di bawah 15000.\n",
        "\n",
        "```\n",
        "Input:\n",
        "3\n",
        "Nasi Goreng 14000\n",
        "Ayam Bakar 16000\n",
        "Mie Ayam 12000\n",
        "\n",
        "Output:\n",
        "Nasi Goreng\n",
        "Mie Ayam\n",
        "```"
      ]
    },
    {
      "cell_type": "code",
      "execution_count": 15,
      "metadata": {},
      "outputs": [
        {
          "name": "stdout",
          "output_type": "stream",
          "text": [
            "Lalapan 14000\n"
          ]
        }
      ],
      "source": [
        "import random\n",
        "\n",
        "menu = [\"Nasi Goreng, Ayam Bakar\", \"Mie Ayam\", \"Mie Goreng\", \"Lalapan\"]\n",
        "cost = [14000, 16000, 12000, 15000, 10000]\n",
        "\n",
        "# print(random.choice(cost))\n",
        "user = int(input(\"Input an integer:\\n\"))\n",
        "\n",
        "for _ in range(user):\n",
        "    food = random.choice(menu)\n",
        "    Cost = random.choice(cost)\n",
        "    if Cost < 15000:\n",
        "        print(food, end=\" \")\n",
        "        print(Cost)"
      ]
    },
    {
      "cell_type": "markdown",
      "metadata": {},
      "source": [
        "### Soal 3: Petualangan Si Kelinci\n",
        "---"
      ]
    },
    {
      "cell_type": "markdown",
      "metadata": {},
      "source": [
        "Seekor kelinci mulai di titik 0. Ia bisa lompat sejauh x langkah setiap kali. Tapi jika lompat ke titik kelipatan 5, dia berhenti. Cetak semua posisi lompatan sampai kelinci berhenti.\n",
        "\n",
        "```\n",
        "Input:\n",
        "3\n",
        "\n",
        "Output:\n",
        "0\n",
        "3\n",
        "6\n",
        "9\n",
        "12\n",
        "```\n",
        "_(Berhenti karena lompatan selanjutnya ke 15)_"
      ]
    },
    {
      "cell_type": "code",
      "execution_count": null,
      "metadata": {},
      "outputs": [
        {
          "name": "stdout",
          "output_type": "stream",
          "text": [
            "0\n",
            "3\n",
            "0\n",
            "6\n",
            "0\n",
            "9\n",
            "0\n",
            "12\n"
          ]
        }
      ],
      "source": [
        "rabbit_hop = int(input(\"Input an integer:\\n\"))\n",
        "\n",
        "for hop in range(0,15,rabbit_hop):\n",
        "    if hop % 5 == 0:\n",
        "        continue\n",
        "    print(hop)"
      ]
    },
    {
      "cell_type": "markdown",
      "metadata": {},
      "source": [
        "### Soal 4: Daftar Nilai dan Rata-rata\n",
        "---"
      ]
    },
    {
      "cell_type": "markdown",
      "metadata": {},
      "source": [
        "Dina menerima nilai dari 5 mata pelajaran. Cetak semua nilai, totalnya, dan nilai rata-rata. Nilai rata-rata dibulatkan ke 2 angka di belakang koma.\n",
        "\n",
        "```\n",
        "Input:\n",
        "78\n",
        "90\n",
        "88\n",
        "84\n",
        "93\n",
        "\n",
        "Output:\n",
        "Nilai: 78 90 88 84 93\n",
        "Total: 433\n",
        "Rata-rata: 86.60\n",
        "```"
      ]
    },
    {
      "cell_type": "code",
      "execution_count": null,
      "metadata": {},
      "outputs": [],
      "source": []
    },
    {
      "cell_type": "markdown",
      "metadata": {},
      "source": [
        "### Soal 5: Tiket Bioskop Diskon\n",
        "---"
      ]
    },
    {
      "cell_type": "markdown",
      "metadata": {},
      "source": [
        "Harga tiket bioskop adalah 50000. Anak-anak (di bawah 12 tahun) dan lansia (di atas 60) mendapatkan diskon 50%. Buat program yang membaca umur beberapa pengunjung dan menghitung total uang yang harus dibayar.\n",
        "\n",
        "```\n",
        "Input:\n",
        "5\n",
        "10\n",
        "25\n",
        "61\n",
        "30\n",
        "8\n",
        "\n",
        "Output:\n",
        "Total bayar: 200000\n",
        "```\n",
        "_(Diskon untuk umur 10, 61, dan 8)_"
      ]
    },
    {
      "cell_type": "code",
      "execution_count": null,
      "metadata": {},
      "outputs": [],
      "source": []
    },
    {
      "cell_type": "markdown",
      "metadata": {},
      "source": [
        "## 5 soal CPC Level-Sulit (Hard)\n",
        "\n",
        " berbentuk studi kasus/cerita. Fokusnya naik: \n",
        "- kombinasi logika\n",
        "- nested loop \n",
        "- kondisi kompleks \n",
        "- pemrosesan data lebih banyak.\n",
        "\n",
        "Kelima soal ini lebih kompleks, cocok untuk mengasah kemampuan membuat algoritma multi-step dan mengelola struktur data sederhana.\n"
      ]
    },
    {
      "cell_type": "markdown",
      "metadata": {},
      "source": [
        "### Soal 1: Festival Lampion\n",
        "---"
      ]
    },
    {
      "cell_type": "markdown",
      "metadata": {},
      "source": [
        "Sebuah taman dihiasi dengan lampion berwarna merah dan biru secara bergantian sepanjang jalan. Setiap posisi lampion diberi angka dari 1 hingga N. Merah dipasang di posisi kelipatan 3, biru di posisi kelipatan 5. Jika suatu posisi kelipatan 3 dan 5, maka lampion diganti emas.\n",
        "\n",
        "Tampilkan hasil pemasangan dari posisi 1 hingga N.\n",
        "```\n",
        "Input:\n",
        "15\n",
        "\n",
        "Output:\n",
        "1: -\n",
        "2: -\n",
        "3: Merah\n",
        "4: -\n",
        "5: Biru\n",
        "6: Merah\n",
        "7: -\n",
        "8: -\n",
        "9: Merah\n",
        "10: Biru\n",
        "11: -\n",
        "12: Merah\n",
        "13: -\n",
        "14: -\n",
        "15: Emas\n",
        "```\n"
      ]
    },
    {
      "cell_type": "code",
      "execution_count": null,
      "metadata": {},
      "outputs": [],
      "source": []
    },
    {
      "cell_type": "markdown",
      "metadata": {},
      "source": [
        "### Soal 2: Penilaian Lomba Menyanyi\n",
        "---"
      ]
    },
    {
      "cell_type": "markdown",
      "metadata": {},
      "source": [
        "Dalam lomba menyanyi, setiap peserta dinilai oleh 5 juri dengan skor 0–100. Nilai tertinggi dan terendah dibuang. Hitung rata-rata dari 3 nilai sisanya, dan tentukan apakah peserta lolos (rata-rata minimal 75).\n",
        "\n",
        "```\n",
        "Input:\n",
        "5\n",
        "80 90 70 85 95\n",
        "\n",
        "Output:\n",
        "Rata-rata resmi: 85.0\n",
        "Status: Lolos\n",
        "```"
      ]
    },
    {
      "cell_type": "code",
      "execution_count": null,
      "metadata": {},
      "outputs": [],
      "source": []
    },
    {
      "cell_type": "markdown",
      "metadata": {},
      "source": [
        "### Soal 3: Mesin ATM Pecahan\n",
        "---"
      ]
    },
    {
      "cell_type": "markdown",
      "metadata": {},
      "source": [
        "Sebuah mesin ATM hanya menyediakan uang pecahan 100 ribu, 50 ribu, dan 20 ribu. Buat program untuk menentukan berapa lembar dari masing-masing pecahan yang dibutuhkan untuk menarik uang sebesar N. Gunakan kombinasi dengan jumlah lembar minimum.\n",
        "\n",
        "```\n",
        "Input:\n",
        "270000\n",
        "\n",
        "Output:\n",
        "100k: 2\n",
        "50k: 1\n",
        "20k: 1\n",
        "```"
      ]
    },
    {
      "cell_type": "code",
      "execution_count": null,
      "metadata": {},
      "outputs": [],
      "source": []
    },
    {
      "cell_type": "markdown",
      "metadata": {},
      "source": [
        "### Soal 4: Pola Bintang Bertingkat\n",
        "---"
      ]
    },
    {
      "cell_type": "markdown",
      "metadata": {},
      "source": [
        "Citra ingin mencetak pola bintang bertingkat. Setiap tingkat memiliki jumlah bintang ganjil (1, 3, 5, ...). Buat pola segitiga bintang dengan n tingkat (tingkat tertinggi = paling atas).\n",
        "\n",
        "```\n",
        "Input:\n",
        "4\n",
        "\n",
        "Output:\n",
        "   *   \n",
        "  ***  \n",
        " ***** \n",
        "*******\n",
        "```"
      ]
    },
    {
      "cell_type": "code",
      "execution_count": null,
      "metadata": {},
      "outputs": [],
      "source": []
    },
    {
      "cell_type": "markdown",
      "metadata": {},
      "source": [
        "### Soal 5: Daftar Nilai Ujian dan Keterangan\n",
        "---"
      ]
    },
    {
      "cell_type": "markdown",
      "metadata": {},
      "source": [
        "Sebuah sekolah merekap daftar nilai ujian dari beberapa siswa. Setiap siswa memiliki nama dan nilai. Buat program untuk mencetak nama siswa dan kategorinya:\n",
        "\n",
        "- Nilai >= 85 → “Sangat Baik”\n",
        "\n",
        "- 70–84 → “Baik”\n",
        "\n",
        "- 50–69 → “Cukup”\n",
        "\n",
        "- < 50 → “Kurang”\n",
        "\n",
        "```\n",
        "Input:\n",
        "3\n",
        "Ani 87\n",
        "Budi 75\n",
        "Caca 45\n",
        "\n",
        "Output:\n",
        "Ani: Sangat Baik\n",
        "Budi: Baik\n",
        "Caca: Kurang\n",
        "```"
      ]
    },
    {
      "cell_type": "code",
      "execution_count": null,
      "metadata": {},
      "outputs": [],
      "source": []
    },
    {
      "cell_type": "markdown",
      "metadata": {},
      "source": [
        "## 3 soal CPC Level-Extreme"
      ]
    },
    {
      "cell_type": "markdown",
      "metadata": {},
      "source": [
        "Tetap dengan format studi kasus/cerita. Soal-soal ini dirancang untuk menguji semua konsep Python dasar yang sudah kamu pelajari, ditambah logika yang kompleks dan multi-layered."
      ]
    },
    {
      "cell_type": "markdown",
      "metadata": {},
      "source": [
        "### Soal 1: Sistem Validasi Tiket Kereta\n",
        "---"
      ]
    },
    {
      "cell_type": "markdown",
      "metadata": {},
      "source": [
        "Seorang petugas kereta ingin memverifikasi tiket penumpang berdasarkan kode yang dimasukkan. Kode tiket terdiri dari:\n",
        "\n",
        "- 2 huruf awal = jenis kereta (EX, BS, EC)\n",
        "\n",
        "- 4 digit = tanggal perjalanan (misal: 1905 = 19 Mei)\n",
        "\n",
        "- 3 huruf = kode nama penumpang (misalnya ARI untuk Ari)\n",
        "\n",
        "Validasi:\n",
        "\n",
        "- Hanya EX, BS, dan EC yang valid\n",
        "\n",
        "- Tanggal harus antara 0101 dan 3112\n",
        "\n",
        "- Nama penumpang hanya huruf kapital\n",
        "\n",
        "```\n",
        "Input:\n",
        "EX2504ARI\n",
        "\n",
        "Output:\n",
        "Tiket valid: Kereta EX pada 25/04 atas nama ARI\n",
        "```\n",
        "```\n",
        "Input:\n",
        "ZZ3112bob\n",
        "\n",
        "Output:\n",
        "Tiket tidak valid\n",
        "```"
      ]
    },
    {
      "cell_type": "code",
      "execution_count": null,
      "metadata": {},
      "outputs": [],
      "source": []
    },
    {
      "cell_type": "markdown",
      "metadata": {},
      "source": [
        "### Soal 2: Penjadwalan Produksi Roti\n",
        "---"
      ]
    },
    {
      "cell_type": "markdown",
      "metadata": {},
      "source": [
        "Sebuah pabrik roti hanya dapat memproduksi maksimal 300 roti per hari. Setiap pesanan datang berisi jumlah roti dan tanggal pemesanan. Buat program untuk menjadwalkan produksi sesuai urutan pesanan, dan tampilkan kapan masing-masing pesanan selesai diproduksi.\n",
        "\n",
        "1 hari produksi = 300 roti (maksimal). Sisa akan dilanjutkan di hari berikutnya.\n",
        "```\n",
        "Input:\n",
        "3\n",
        "2025-05-01 500\n",
        "2025-05-02 200\n",
        "2025-05-03 700\n",
        "\n",
        "Output:\n",
        "Pesanan 1 selesai pada: 2025-05-02\n",
        "Pesanan 2 selesai pada: 2025-05-02\n",
        "Pesanan 3 selesai pada: 2025-05-05\n",
        "```"
      ]
    },
    {
      "cell_type": "code",
      "execution_count": null,
      "metadata": {},
      "outputs": [],
      "source": []
    },
    {
      "cell_type": "markdown",
      "metadata": {},
      "source": [
        "### Soal 3: Turnamen Gunting Batu Kertas\n",
        "---"
      ]
    },
    {
      "cell_type": "markdown",
      "metadata": {},
      "source": [
        "Dalam turnamen Gunting-Batu-Kertas, 4 pemain bertanding secara berpasangan (A lawan B, C lawan D). Pemain yang menang akan lanjut ke final.\n",
        "\n",
        "Aturan:\n",
        "\n",
        "- Gunting kalahkan Kertas\n",
        "\n",
        "- Kertas kalahkan Batu\n",
        "\n",
        "- Batu kalahkan Gunting\n",
        "\n",
        "Input berisi nama dan pilihan masing-masing pemain.\n",
        "\n",
        "```\n",
        "Input:\n",
        "A Gunting\n",
        "B Batu\n",
        "C Batu\n",
        "D Kertas\n",
        "\n",
        "Output:\n",
        "B menang dari A\n",
        "C menang dari D\n",
        "Final: B vs C\n",
        "Pemenang: C\n",
        "```"
      ]
    },
    {
      "cell_type": "code",
      "execution_count": null,
      "metadata": {},
      "outputs": [],
      "source": []
    },
    {
      "cell_type": "markdown",
      "metadata": {},
      "source": [
        "##\n",
        "Setiap soal ini bisa diselesaikan dengan Python dasar yang kamu kuasai, tapi perlu pemikiran runtut, penggunaan if-else, perulangan, dan manipulasi string yang rapi.\n",
        "\n",
        "---"
      ]
    },
    {
      "cell_type": "markdown",
      "metadata": {},
      "source": [
        "## 10 Fundamental Algorithm"
      ]
    },
    {
      "cell_type": "markdown",
      "metadata": {},
      "source": [
        "### 🧠 Algoritma 1: Linear Search (Pencarian Linear)"
      ]
    },
    {
      "cell_type": "markdown",
      "metadata": {},
      "source": [
        "🧩 Apa itu?\n",
        "\n",
        "---\n",
        "\n",
        "Linear Search adalah algoritma untuk mencari sebuah nilai di dalam kumpulan data (seperti list atau array) dengan cara memeriksa satu per satu dari awal sampai akhir.\n",
        "\n",
        "📌 Bagaimana cara kerjanya?\n",
        "\n",
        "---\n",
        "\n",
        "Misalnya kamu ingin mencari angka 7 dalam list [3, 5, 7, 9]. Maka:\n",
        "\n",
        "- Periksa 3 → bukan\n",
        "\n",
        "- Periksa 5 → bukan\n",
        "\n",
        "- Periksa 7 → ketemu! ✅\n",
        "\n",
        "Kalau sudah ketemu, kita bisa hentikan pencarian. Kalau tidak ada, maka hasilnya \"tidak ditemukan\".\n",
        "\n",
        "🌍 Aplikasi dunia nyata:\n",
        "\n",
        "---\n",
        "\n",
        "- Mencari nama di daftar presensi\n",
        "\n",
        "- Mengecek apakah nomor HP tertentu sudah tersimpan di kontak\n",
        "\n",
        "- Mencari barang di daftar belanja\n",
        "\n",
        "🧪 Soal Latihan: Pencarian Nama di Daftar Tamu\n",
        "\n",
        "---\n",
        "\n",
        "Bayangkan kamu adalah panitia acara kampus dan kamu ingin memastikan apakah seseorang yang datang sudah terdaftar sebagai tamu undangan.\n",
        "\n",
        "Buat program Python yang:\n",
        "\n",
        "1. Menerima input jumlah tamu yang diundang\n",
        "\n",
        "2. Menerima nama-nama tamu (string)\n",
        "\n",
        "3. Menerima nama orang yang datang\n",
        "\n",
        "4. Mengecek apakah nama orang tersebut ada dalam daftar\n",
        "\n",
        "5. Output:\n",
        "\n",
        "- Jika ada: Selamat datang, [nama]!\n",
        "\n",
        "- Jika tidak: Maaf, [nama] tidak terdaftar.\n",
        "\n",
        "```\n",
        "Contoh Input:\n",
        "3\n",
        "Andi\n",
        "Budi\n",
        "Caca\n",
        "Budi\n",
        "\n",
        "Output:\n",
        "Selamat datang, Budi!\n",
        "```\n",
        "```\n",
        "Contoh Input:\n",
        "2\n",
        "Dina\n",
        "Raka\n",
        "Santi\n",
        "\n",
        "Output:\n",
        "Maaf, Santi tidak terdaftar.\n",
        "```"
      ]
    },
    {
      "cell_type": "code",
      "execution_count": null,
      "metadata": {},
      "outputs": [],
      "source": []
    },
    {
      "cell_type": "markdown",
      "metadata": {},
      "source": [
        "### 🧠 Algoritma 2: Counting (Perhitungan Jumlah/Statistik Sederhana)"
      ]
    },
    {
      "cell_type": "markdown",
      "metadata": {},
      "source": [
        "🧩 Apa itu?\n",
        "\n",
        "---\n",
        "\n",
        "Algoritma Counting digunakan untuk menghitung berapa banyak suatu nilai tertentu muncul dalam data. Bisa juga untuk menghitung jumlah data yang memenuhi kondisi tertentu.\n",
        "\n",
        "📌 Bagaimana cara kerjanya?\n",
        "\n",
        "---\n",
        "\n",
        "Kita membuat variabel penghitung, lalu lakukan:\n",
        "\n",
        "- Untuk setiap data di list:\n",
        "    - Kalau sesuai kondisi → tambahkan 1 ke penghitung\n",
        "\n",
        "Contohnya: hitung berapa banyak angka genap dalam [2, 3, 4, 5, 6] <br>\n",
        "→ Hasilnya: 3 angka genap\n",
        "\n",
        "🌍 Aplikasi dunia nyata:\n",
        "\n",
        "---\n",
        "\n",
        "- Menghitung jumlah peserta yang lulus ujian (nilai >= 75)\n",
        "\n",
        "- Menghitung jumlah like/komentar positif dari total komen\n",
        "\n",
        "- Mengetahui jumlah stok barang tertentu\n",
        "\n",
        "🧪 Soal Latihan: Hitung Jumlah Siswa yang Lulus\n",
        "\n",
        "---\n",
        "\n",
        "Sekolahmu menyimpan nilai ujian siswa. Siswa dinyatakan lulus jika nilainya ≥ 70.\n",
        "\n",
        "Buat program Python yang:\n",
        "\n",
        "1. Menerima jumlah siswa\n",
        "\n",
        "2. Menerima nilai-nilai ujian\n",
        "\n",
        "3. Menghitung berapa siswa yang lulus dan tidak lulus\n",
        "\n",
        "4. Output hasilnya seperti contoh\n",
        "```\n",
        "Contoh Input:\n",
        "5\n",
        "60\n",
        "75\n",
        "90\n",
        "55\n",
        "80\n",
        "\n",
        "Output:\n",
        "Lulus: 3\n",
        "Tidak Lulus: 2\n",
        "```"
      ]
    },
    {
      "cell_type": "code",
      "execution_count": null,
      "metadata": {},
      "outputs": [],
      "source": []
    },
    {
      "cell_type": "markdown",
      "metadata": {},
      "source": [
        "### 🧠 Algoritma 3: Maximum/Minimum Finder"
      ]
    },
    {
      "cell_type": "markdown",
      "metadata": {},
      "source": [
        "🧩 Apa itu?\n",
        "\n",
        "---\n",
        "\n",
        "Ini adalah algoritma untuk mencari nilai terbesar (maksimum) atau nilai terkecil (minimum) dari sekumpulan data.\n",
        "\n",
        "📌 Bagaimana cara kerjanya?\n",
        "\n",
        "---\n",
        "\n",
        "- Kita mulai dengan anggap angka pertama adalah yang terbesar/terkecil\n",
        "\n",
        "- Lalu kita bandingkan satu per satu elemen lainnya\n",
        "\n",
        "- Jika ada angka yang lebih besar/kecil, kita ganti nilainya\n",
        " \n",
        "- Ulangi sampai selesai\n",
        "\n",
        "🌍 Aplikasi dunia nyata:\n",
        "\n",
        "---\n",
        "\n",
        "- Mencari nilai tertinggi ujian\n",
        "\n",
        "- Mengetahui suhu tertinggi dalam sebulan\n",
        " \n",
        "- Menentukan skor terendah dari hasil tes\n",
        "\n",
        "🧪 Soal Latihan: Peringkat Nilai Tertinggi\n",
        "\n",
        "---\n",
        "\n",
        "Diberikan nilai dari sejumlah siswa. Buat program Python untuk:\n",
        "\n",
        "1. Menerima jumlah siswa\n",
        "\n",
        "2. Menerima nilai mereka\n",
        "\n",
        "3. Menampilkan nilai tertinggi dan terendah dari daftar tersebut\n",
        "\n",
        "```\n",
        "Contoh Input:\n",
        "4\n",
        "70\n",
        "85\n",
        "90\n",
        "60\n",
        "\n",
        "Output:\n",
        "Nilai tertinggi: 90\n",
        "Nilai terendah: 60\n",
        "```"
      ]
    },
    {
      "cell_type": "code",
      "execution_count": null,
      "metadata": {},
      "outputs": [],
      "source": []
    },
    {
      "cell_type": "markdown",
      "metadata": {},
      "source": [
        "### 🧠 Algoritma 4: Summation (Penjumlahan Total)"
      ]
    },
    {
      "cell_type": "markdown",
      "metadata": {},
      "source": [
        "🧩 Apa itu?\n",
        "\n",
        "---\n",
        "\n",
        "Algoritma yang digunakan untuk menjumlahkan semua elemen di dalam suatu list/data.\n",
        "\n",
        "📌 Bagaimana cara kerjanya?\n",
        "\n",
        "---\n",
        "\n",
        "- Buat variabel total = 0\n",
        "\n",
        "- Untuk setiap nilai dalam data:\n",
        "\n",
        "    - Tambahkan nilai tersebut ke total\n",
        "\n",
        "- Setelah selesai, total akan menyimpan hasil penjumlahan semua nilai\n",
        "\n",
        "🌍 Aplikasi dunia nyata:\n",
        "\n",
        "---\n",
        "\n",
        "- Menjumlahkan total harga belanja\n",
        "\n",
        "- Menghitung total poin dalam game\n",
        "\n",
        "- Menjumlahkan total pengeluaran dalam sebulan\n",
        "\n",
        "🧪 Soal Latihan: Total Belanja Harian\n",
        "\n",
        "---\n",
        "\n",
        "Toko kelontong mencatat jumlah uang dari setiap pembeli hari ini. Tugasmu membuat program Python untuk:\n",
        "\n",
        "1. Input jumlah pembeli hari ini\n",
        "\n",
        "2. Input jumlah belanja dari masing-masing pembeli\n",
        "\n",
        "3. Hitung dan tampilkan total pemasukan toko hari ini\n",
        "\n",
        "```\n",
        "Contoh Input:\n",
        "4\n",
        "15000\n",
        "30000\n",
        "12000\n",
        "8000\n",
        "\n",
        "Output:\n",
        "Total pemasukan hari ini: 65000\n",
        "```"
      ]
    },
    {
      "cell_type": "code",
      "execution_count": null,
      "metadata": {},
      "outputs": [],
      "source": []
    },
    {
      "cell_type": "markdown",
      "metadata": {},
      "source": [
        "### 🧠 Algoritma 5: Average (Rata-Rata)"
      ]
    },
    {
      "cell_type": "markdown",
      "metadata": {},
      "source": [
        "🧩 Apa itu?\n",
        "\n",
        "---\n",
        "\n",
        "Algoritma ini digunakan untuk menghitung nilai rata-rata dari sekumpulan data.\n",
        "\n",
        "📌 Bagaimana cara kerjanya?\n",
        "\n",
        "---\n",
        "\n",
        "- Gunakan algoritma Summation untuk menjumlahkan semua nilai\n",
        "\n",
        "- Lalu bagi total itu dengan jumlah data\n",
        "\n",
        "Contoh: nilai = [80, 90, 100]\n",
        "Total = 270, jumlah data = 3 → rata-rata = 270 / 3 = 90\n",
        "\n",
        "🌍 Aplikasi dunia nyata:\n",
        "\n",
        "---\n",
        "\n",
        "- Menghitung rata-rata nilai siswa\n",
        "\n",
        "- Rata-rata pengeluaran bulanan\n",
        "\n",
        "- Rata-rata kecepatan dalam lomba lari\n",
        "\n",
        "🧪 Soal Latihan: Rata-Rata Nilai Ulangan\n",
        "\n",
        "---\n",
        "\n",
        "Guru ingin mengetahui rata-rata nilai dari seluruh siswa di kelasnya. Buat program Python untuk:\n",
        "\n",
        "1. Menerima input jumlah siswa\n",
        "\n",
        "2. Menerima nilai mereka satu per satu\n",
        "\n",
        "3. Menghitung dan mencetak rata-rata nilai dengan pembulatan ke 2 angka di belakang koma\n",
        "\n",
        "```\n",
        "Contoh Input:\n",
        "5\n",
        "80\n",
        "75\n",
        "90\n",
        "60\n",
        "85\n",
        "\n",
        "Output:\n",
        "Rata-rata nilai: 78.0\n",
        "```\n",
        "> Gunakan round(rata_rata, 2) untuk membulatkan hasil.\n",
        "\n"
      ]
    },
    {
      "cell_type": "code",
      "execution_count": null,
      "metadata": {},
      "outputs": [],
      "source": []
    },
    {
      "cell_type": "markdown",
      "metadata": {},
      "source": [
        "### 🧠 Algoritma 6: Even/Odd Classifier (Pengelompokan Genap & Ganjil)"
      ]
    },
    {
      "cell_type": "markdown",
      "metadata": {},
      "source": [
        "🧩 Apa itu?\n",
        "\n",
        "---\n",
        "\n",
        "Algoritma ini digunakan untuk mengelompokkan angka menjadi genap dan ganjil dengan menggunakan operator modulus (%).\n",
        "\n",
        "- Jika angka % 2 == 0 → Genap\n",
        "\n",
        "- Jika angka % 2 != 0 → Ganjil\n",
        "\n",
        "🌍 Aplikasi dunia nyata:\n",
        "\n",
        "---\n",
        "\n",
        "- Menentukan giliran pertandingan berdasarkan nomor urut\n",
        "\n",
        "- Mengelompokkan data statistik\n",
        "\n",
        "- Menentukan hari ganjil/genap untuk kendaraan di jalan raya\n",
        "\n",
        "🧪 Soal Latihan: Pengelompokan Nomor Absen\n",
        "\n",
        "---\n",
        "\n",
        "Sebuah kelas ingin membagi siswa menjadi dua kelompok:\n",
        "\n",
        "- Kelompok Ganjil: siswa dengan nomor absen ganjil\n",
        "\n",
        "- Kelompok Genap: siswa dengan nomor absen genap\n",
        "\n",
        "Buat program Python untuk:\n",
        "\n",
        "1. Menerima jumlah siswa\n",
        "\n",
        "2. Menerima nomor absen masing-masing\n",
        "\n",
        "3. Cetak jumlah siswa di kelompok ganjil dan genap\n",
        "\n",
        "```\n",
        "Contoh Input:\n",
        "6\n",
        "1\n",
        "2\n",
        "3\n",
        "4\n",
        "5\n",
        "6\n",
        "\n",
        "Output:\n",
        "Jumlah siswa dengan absen genap: 3\n",
        "Jumlah siswa dengan absen ganjil: 3\n",
        "```"
      ]
    },
    {
      "cell_type": "code",
      "execution_count": null,
      "metadata": {},
      "outputs": [],
      "source": []
    },
    {
      "cell_type": "markdown",
      "metadata": {},
      "source": [
        "### 🧠 Algoritma 7: Simple Pattern Builder (Membangun Pola Karakter Dasar)"
      ]
    },
    {
      "cell_type": "markdown",
      "metadata": {},
      "source": [
        "🧩 Apa itu?\n",
        "\n",
        "---\n",
        "\n",
        "Algoritma ini digunakan untuk membuat pola berbasis karakter atau angka, seperti segitiga bintang, kotak angka, dan sebagainya.\n",
        "Biasanya menggunakan loop bersarang (for di dalam for).\n",
        "\n",
        "\n",
        "🧱 Contoh Pola Segitiga Bintang:\n",
        "```\n",
        "*\n",
        "**\n",
        "***\n",
        "****\n",
        "```\n",
        "Kamu hanya perlu memahami loop dan print dengan end — dan kamu sudah bisa bikin pola sendiri!\n",
        "\n",
        "🌍 Aplikasi dunia nyata:\n",
        "\n",
        "---\n",
        "\n",
        "- Visualisasi sederhana\n",
        "\n",
        "- Latihan logika struktur\n",
        "\n",
        "- Basis dari grafis pixelated, ASCII art, atau bahkan layout UI game\n",
        "\n",
        "🧪 Soal Latihan: Tangga Bintang\n",
        "\n",
        "---\n",
        "\n",
        "Buat program Python yang:\n",
        "\n",
        "1. Menerima input n (jumlah baris tangga)\n",
        "\n",
        "2. Mencetak pola bintang bertingkat seperti contoh\n",
        "\n",
        "```\n",
        "Contoh Input:\n",
        "4\n",
        "\n",
        "Output:\n",
        "*\n",
        "**\n",
        "***\n",
        "****\n",
        "```\n",
        "\n",
        ">Gunakan print(\"*\" * i) dalam loop\n",
        "\n",
        "Kamu juga boleh modifikasi:\n",
        "\n",
        "- Buat segitiga terbalik\n",
        "\n",
        "- Buat persegi bintang\n",
        "\n",
        "- Buat pola angka: 1, 22, 333, dst"
      ]
    },
    {
      "cell_type": "code",
      "execution_count": null,
      "metadata": {},
      "outputs": [],
      "source": []
    },
    {
      "cell_type": "markdown",
      "metadata": {},
      "source": [
        "### 🧠 Algoritma 8: Basic Sorting (Pengurutan Manual Sederhana)"
      ]
    },
    {
      "cell_type": "markdown",
      "metadata": {},
      "source": [
        "🧩 Apa itu?\n",
        "\n",
        "---\n",
        "\n",
        "Algoritma sorting (pengurutan) digunakan untuk mengurutkan data dari kecil ke besar (ascending) atau besar ke kecil (descending).\n",
        "\n",
        "Kita akan mulai dari metode paling sederhana: Bubble Sort.\n",
        "\n",
        "📌 Cara kerja Bubble Sort:\n",
        "\n",
        "---\n",
        "\n",
        "- Bandingkan elemen ke-1 dan ke-2. Jika salah urut, tukar\n",
        "\n",
        "- Lanjut ke elemen ke-2 dan ke-3, begitu seterusnya\n",
        "\n",
        "- Ulangi proses itu beberapa kali sampai semua data urut\n",
        "\n",
        "Contoh:\n",
        "```\n",
        "Data awal: [5, 2, 4]\n",
        "Langkah:\n",
        "-> [2, 5, 4]\n",
        "-> [2, 4, 5] ✅\n",
        "```\n",
        "\n",
        "🌍 Aplikasi dunia nyata:\n",
        "\n",
        "---\n",
        "\n",
        "- Mengurutkan nilai dari tertinggi ke terendah\n",
        "\n",
        "- Urutkan harga barang\n",
        "\n",
        "- Menyusun peringkat peserta lomba\n",
        "\n",
        "🧪 Soal Latihan: Urutkan Nilai Ujian\n",
        "\n",
        "---\n",
        "\n",
        "Guru ingin mengetahui peringkat nilai dari siswa. Buat program Python untuk:\n",
        "\n",
        "1. Menerima jumlah siswa\n",
        "\n",
        "2. Menerima nilai mereka\n",
        "\n",
        "3. Urutkan nilai-nilai tersebut dari yang tertinggi ke terendah\n",
        "\n",
        "4. Cetak hasilnya satu per baris\n",
        "\n",
        "```\n",
        "Contoh Input:\n",
        "4\n",
        "60\n",
        "85\n",
        "75\n",
        "90\n",
        "\n",
        "Output:\n",
        "90\n",
        "85\n",
        "75\n",
        "60\n",
        "```\n",
        ">Catatan: Jangan pakai sort() atau sorted() — latih manual!\n"
      ]
    },
    {
      "cell_type": "code",
      "execution_count": null,
      "metadata": {},
      "outputs": [],
      "source": []
    },
    {
      "cell_type": "markdown",
      "metadata": {},
      "source": [
        "### 🧠 Algoritma 9: Filter Berdasarkan Kondisi (Data Filtering)\n"
      ]
    },
    {
      "cell_type": "markdown",
      "metadata": {},
      "source": [
        "🧩 Apa itu?\n",
        "\n",
        "---\n",
        "\n",
        "Algoritma ini digunakan untuk mengambil hanya data yang memenuhi syarat tertentu dari sekumpulan data.\n",
        "\n",
        "📌 Cara kerjanya:\n",
        "\n",
        "---\n",
        "\n",
        "- Siapkan list kosong untuk menyimpan hasil\n",
        "\n",
        "- Lakukan perulangan\n",
        "\n",
        "- Setiap elemen dicek:\n",
        "\n",
        "    - Kalau sesuai syarat → masukkan ke list hasil\n",
        "\n",
        "- Setelah selesai → tampilkan data hasil filter\n",
        "\n",
        "🌍 Aplikasi dunia nyata:\n",
        "\n",
        "---\n",
        "\n",
        "- Menyaring siswa yang lulus ujian\n",
        "\n",
        "- Menyaring barang di atas harga tertentu\n",
        "\n",
        "- Menyaring komentar negatif dalam moderasi\n",
        "\n",
        "🧪 Soal Latihan: Daftar Siswa yang Lulus\n",
        "\n",
        "---\n",
        "\n",
        "Kamu ingin membuat program untuk mencari siapa saja yang lulus dari daftar nilai siswa. Lulus jika nilai ≥ 75.\n",
        "\n",
        "Program harus:\n",
        "\n",
        "1. Menerima jumlah siswa\n",
        "\n",
        "2. Menerima nama dan nilai siswa\n",
        "\n",
        "3. Menampilkan nama-nama siswa yang lulus\n",
        "\n",
        "```\n",
        "Contoh Input:\n",
        "4\n",
        "Ani 80\n",
        "Budi 65\n",
        "Citra 90\n",
        "Dino 70\n",
        "\n",
        "Output:\n",
        "Siswa yang lulus:\n",
        "Ani\n",
        "Citra\n",
        "```\n",
        "> Gunakan dua list (satu untuk nama, satu untuk nilai), atau simpan sebagai list of tuple: [(nama, nilai), ...]"
      ]
    },
    {
      "cell_type": "code",
      "execution_count": null,
      "metadata": {},
      "outputs": [],
      "source": []
    },
    {
      "cell_type": "markdown",
      "metadata": {},
      "source": [
        "### 🧠 Algoritma 10: Flag-Based Decision (Logika dengan Bendera)\n"
      ]
    },
    {
      "cell_type": "markdown",
      "metadata": {},
      "source": [
        "🧩 Apa itu?\n",
        "\n",
        "---\n",
        "\n",
        "Algoritma ini menggunakan variabel boolean (True/False) sebagai penanda (flag) untuk menentukan kondisi tertentu selama proses berjalan.\n",
        "\n",
        "Misalnya:\n",
        "\n",
        "- Flag semua_lulus = True\n",
        "\n",
        "- Cek satu per satu nilai siswa:\n",
        "\n",
        "    - Kalau ada yang gagal, ubah semua_lulus = False\n",
        "\n",
        "📌 Kenapa ini berguna?\n",
        "\n",
        "---\n",
        "\n",
        "Karena kamu bisa mendeteksi kondisi unik, seperti:\n",
        "\n",
        "- Apakah semua siswa lulus?\n",
        "\n",
        "- Apakah tidak ada nilai negatif?\n",
        "\n",
        "- Apakah input valid semua?\n",
        "\n",
        "🌍 Aplikasi dunia nyata:\n",
        "\n",
        "---\n",
        "\n",
        "- Validasi data input\n",
        "\n",
        "- Pemeriksaan kelayakan\n",
        "\n",
        "- Pengecekan kondisi istimewa dalam logika bisnis\n",
        "\n",
        "🧪 Soal Latihan: Semua Siswa Lulus?\n",
        "\n",
        "---\n",
        "\n",
        "Buat program Python untuk:\n",
        "\n",
        "1. Menerima jumlah siswa\n",
        "\n",
        "2. Menerima nilai setiap siswa\n",
        "\n",
        "3. Menentukan apakah semua siswa lulus (nilai ≥ 75)\n",
        "\n",
        "4. Cetak:\n",
        "\n",
        "    - \"Semua siswa lulus!\" jika semua lulus\n",
        "\n",
        "    - \"Ada siswa yang tidak lulus.\" jika tidak\n",
        "\n",
        "```\n",
        "Contoh Input 1:\n",
        "3\n",
        "80\n",
        "90\n",
        "75\n",
        "\n",
        "Output 1:\n",
        "Semua siswa lulus!\n",
        "```\n",
        "\n",
        "---\n",
        "\n",
        "```\n",
        "Contoh Input 2:\n",
        "3\n",
        "80\n",
        "70\n",
        "75\n",
        "\n",
        "Output 2:\n",
        "Ada siswa yang tidak lulus.\n",
        "Gunakan variabel semua_lulus = True, lalu ubah jadi False jika ketemu nilai < 75.\n",
        "```\n"
      ]
    },
    {
      "cell_type": "code",
      "execution_count": null,
      "metadata": {},
      "outputs": [],
      "source": []
    },
    {
      "cell_type": "markdown",
      "metadata": {},
      "source": [
        "##\n",
        "\n",
        "Dan selesai sudah 10 algoritma Python basic yang bisa kamu kuasai sejak awal\n"
      ]
    },
    {
      "cell_type": "markdown",
      "metadata": {},
      "source": [
        "## 💡 Ide Proyek: Aplikasi Nilai Siswa Sederhana (Terminal Based)\n"
      ]
    },
    {
      "cell_type": "markdown",
      "metadata": {},
      "source": [
        "📝 Deskripsi Proyek:\n",
        "\n",
        "---\n",
        "\n",
        "Buat sebuah program terminal di mana guru bisa:\n",
        "\n",
        "- Memasukkan data beberapa siswa (nama dan nilai)\n",
        "\n",
        "- Program menghitung dan menampilkan:\n",
        "\n",
        "    - Rata-rata nilai\n",
        "\n",
        "    - Siswa dengan nilai tertinggi dan terendah\n",
        "\n",
        "    - Daftar siswa yang lulus dan tidak lulus (dengan nilai batas, misal 75)\n",
        "\n",
        "    - Menampilkan jumlah siswa genap & ganjil berdasarkan nomor urut input\n",
        "\n",
        "    - Menentukan apakah semua siswa lulus atau tidak (menggunakan flag)\n",
        "\n",
        "> 🎯 Proyek ini menggabungkan semua topik Python dasar: input/output, variabel, operator, data types, if-else, loop.\n",
        "\n",
        "🎮 Contoh Alur Interaksi:\n",
        "```\n",
        "Masukkan jumlah siswa: 4\n",
        "\n",
        "Masukkan nama siswa ke-1: Ani\n",
        "Masukkan nilai Ani: 80\n",
        "\n",
        "Masukkan nama siswa ke-2: Budi\n",
        "Masukkan nilai Budi: 65\n",
        "\n",
        "Masukkan nama siswa ke-3: Citra\n",
        "Masukkan nilai Citra: 90\n",
        "\n",
        "Masukkan nama siswa ke-4: Dodi\n",
        "Masukkan nilai Dodi: 70\n",
        "```\n",
        "\n",
        "Lalu program mencetak:\n",
        "\n",
        "```\n",
        "=== Ringkasan Nilai Siswa ===\n",
        "Rata-rata nilai: 76.25\n",
        "Nilai tertinggi: Citra (90)\n",
        "Nilai terendah: Budi (65)\n",
        "\n",
        "Siswa yang lulus:\n",
        "- Ani\n",
        "- Citra\n",
        "\n",
        "Siswa yang tidak lulus:\n",
        "- Budi\n",
        "- Dodi\n",
        "\n",
        "Jumlah siswa dengan nomor urut ganjil: 2\n",
        "Jumlah siswa dengan nomor urut genap: 2\n",
        "\n",
        "Apakah semua siswa lulus? Tidak\n",
        "```\n",
        "🧠 Fitur yang Bisa Kamu Tambahkan (opsional):\n",
        "\n",
        "---\n",
        "\n",
        "- Menu interaktif: tambah siswa, lihat ringkasan, keluar\n",
        "\n",
        "- Simpan data ke file .txt (kalau nanti belajar file handling)\n",
        "\n",
        "- Versi GUI (kalau kamu lanjut ke Tkinter atau PyQt)"
      ]
    }
  ],
  "metadata": {
    "colab": {
      "provenance": []
    },
    "kernelspec": {
      "display_name": "Python 3",
      "name": "python3"
    },
    "language_info": {
      "codemirror_mode": {
        "name": "ipython",
        "version": 3
      },
      "file_extension": ".py",
      "mimetype": "text/x-python",
      "name": "python",
      "nbconvert_exporter": "python",
      "pygments_lexer": "ipython3",
      "version": "3.12.5"
    }
  },
  "nbformat": 4,
  "nbformat_minor": 0
}
