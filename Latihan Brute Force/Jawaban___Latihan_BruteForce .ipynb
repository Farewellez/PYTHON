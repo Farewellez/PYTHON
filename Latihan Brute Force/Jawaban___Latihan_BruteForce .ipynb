{
 "cells": [
  {
   "cell_type": "markdown",
   "metadata": {
    "id": "HJUuJsyQ0Hu0"
   },
   "source": [
    "# Latihan Soal Brute Force\n",
    "Berikut adalah kumpulan soal Brute Force yang disusun berdasarkan tingkat kesulitan, dengan 5 soal terakhir bertema fantasy dan dikategorikan sebagai extreme. Setiap soal sudah dilengkapi dengan daftar uji coba fungsi (test case list) agar kamu bisa langsung validasi hasil fungsi buatanmu.\n",
    "\n",
    "---"
   ]
  },
  {
   "cell_type": "markdown",
   "metadata": {
    "id": "Tak9pW1g0WmD"
   },
   "source": [
    "## Soal Mudah (10 Soal)\n",
    "Berikut adalah 10 soal mudah untuk topik Brute Force. Masing-masing soal dilengkapi dengan deskripsi singkat, tujuan yang jelas, serta daftar uji coba (input dan output yang diharapkan)."
   ]
  },
  {
   "cell_type": "markdown",
   "metadata": {
    "id": "drcpDUWJ0sSq"
   },
   "source": [
    "### 1. Pasangan Jumlah Target\n",
    "Deskripsi: <br>\n",
    "Diberikan sebuah list angka dan sebuah target, temukan apakah ada dua angka berbeda yang jumlahnya sama dengan target.\n",
    "```\n",
    "# Fungsi: find_pair(nums: List[int], target: int) -> bool\n",
    "\n",
    "# Contoh Test:\n",
    "find_pair([1, 2, 3, 4], 5) => True     # 2 + 3\n",
    "find_pair([1, 1, 1], 10) => False\n",
    "find_pair([5, 7, 1, 2], 9) => True     # 7 + 2\n",
    "\n",
    "```"
   ]
  },
  {
   "cell_type": "code",
   "execution_count": 18,
   "metadata": {
    "id": "HmZi0Lw41Fkr"
   },
   "outputs": [
    {
     "name": "stdout",
     "output_type": "stream",
     "text": [
      "1 + 4\n",
      "True\n",
      "\n",
      "False\n",
      "\n",
      "7 + 2\n",
      "True\n"
     ]
    }
   ],
   "source": [
    "# Coding di sini ya...\n",
    "def find_pair(numbers, target):\n",
    "    if len(numbers) == 1:\n",
    "        return False\n",
    "    \n",
    "    number = numbers[0]\n",
    "    for i in range(1,len(numbers)):\n",
    "        if number == numbers[i]:\n",
    "            continue\n",
    "        \n",
    "        if number + numbers[i] == target:\n",
    "            print(f\"{number} + {numbers[i]}\")\n",
    "            return True\n",
    "    return find_pair(numbers[1:], target)\n",
    "\n",
    "\n",
    "print(find_pair([1, 2, 3, 4], 5)) \n",
    "print()\n",
    "print(find_pair([1, 1, 1], 10))\n",
    "print() \n",
    "print(find_pair([5, 7, 1, 2], 9)) \n",
    "\n"
   ]
  },
  {
   "cell_type": "markdown",
   "metadata": {
    "id": "qciPrW751BB-"
   },
   "source": [
    "---\n",
    "\n",
    "### 2. Jumlah Total Semua Pasangan\n",
    "Deskripsi: <br>\n",
    "Hitung jumlah dari semua hasil penjumlahan dua angka berbeda di dalam list.\n",
    "```\n",
    "# Fungsi: total_pair_sum(nums: List[int]) -> int\n",
    "\n",
    "# Contoh Test:\n",
    "total_pair_sum([1, 2, 3]) => 1+2 + 1+3 + 2+3 = 12\n",
    "total_pair_sum([5]) => 0\n",
    "total_pair_sum([1, 2, 3, 4]) => 1+2 + 1+3 + 1+4 + 2+3 + 2+4 + 3+4 = 30\n",
    "```"
   ]
  },
  {
   "cell_type": "code",
   "execution_count": 23,
   "metadata": {
    "id": "F5ACetYd1OQv"
   },
   "outputs": [
    {
     "name": "stdout",
     "output_type": "stream",
     "text": [
      "12\n",
      "0\n",
      "30\n"
     ]
    }
   ],
   "source": [
    "# Coding di sini ya...\n",
    "def total_pair_sum(nums: list[int]) -> int:\n",
    "    count = 0\n",
    "\n",
    "    if len(nums) < 2:\n",
    "        return 0\n",
    "    \n",
    "    for i in range(len(nums)):\n",
    "        for j in range(i + 1, len(nums)):\n",
    "            pair = nums[i] + nums[j]\n",
    "            count += pair\n",
    "    return count\n",
    "\n",
    "print(total_pair_sum([1, 2, 3]))\n",
    "print(total_pair_sum([5]))\n",
    "print(total_pair_sum([1, 2, 3, 4]))"
   ]
  },
  {
   "cell_type": "markdown",
   "metadata": {
    "id": "1_kmz1Mj220Y"
   },
   "source": [
    "---\n",
    "\n",
    "### 3. Kata Anagram?\n",
    "Deskripsi: <br>\n",
    "Cek apakah dua string adalah anagram satu sama lain (abaikan kapital dan spasi).\n",
    "```\n",
    "# Fungsi: is_anagram(s1: str, s2: str) -> bool\n",
    "\n",
    "# Contoh Test:\n",
    "is_anagram(\"Listen\", \"Silent\") => True\n",
    "is_anagram(\"Hello\", \"Olelh\") => True\n",
    "is_anagram(\"Hello\", \"World\") => False\n",
    "\n",
    "```"
   ]
  },
  {
   "cell_type": "code",
   "execution_count": 26,
   "metadata": {
    "id": "AqR-p5n_297m"
   },
   "outputs": [
    {
     "name": "stdout",
     "output_type": "stream",
     "text": [
      "True\n",
      "True\n",
      "False\n"
     ]
    }
   ],
   "source": [
    "def permutations(words):\n",
    "    if len(words) == 1:\n",
    "        return words[0]\n",
    "    \n",
    "    result = []\n",
    "\n",
    "    for i, char in enumerate(words):\n",
    "        sisa = words[:i] + words[i + 1:]\n",
    "        for word in permutations(sisa):\n",
    "            result.append(char + word)\n",
    "    \n",
    "    return result\n",
    "\n",
    "\n",
    "def is_anagram(s1: str, s2: str) -> bool:\n",
    "    s1_clean = s1.lower().replace(\" \",\"\")\n",
    "    s2_clean = s2.lower().replace(\" \",\"\")\n",
    "\n",
    "    hasil = permutations(s1_clean)\n",
    "    \n",
    "    if s2_clean in hasil:\n",
    "        return True\n",
    "    return False\n",
    "\n",
    "print(is_anagram(\"Listen\", \"Silent\"))\n",
    "print(is_anagram(\"Hello\", \"Olelh\")) \n",
    "print(is_anagram(\"Hello\", \"World\")) "
   ]
  },
  {
   "cell_type": "markdown",
   "metadata": {
    "id": "qZbIpB_N3Cyy"
   },
   "source": [
    "---\n",
    "\n",
    "### 4. Angka Paling Sering Muncul\n",
    "Deskripsi:\n",
    "Temukan angka yang paling sering muncul dalam list.\n",
    "```\n",
    "# Fungsi: most_frequent(nums: List[int]) -> int\n",
    "\n",
    "# Contoh Test:\n",
    "most_frequent([1, 2, 2, 3, 3, 3]) => 3\n",
    "most_frequent([5, 5, 5, 2, 2]) => 5\n",
    "most_frequent([1]) => 1\n",
    "\n",
    "```"
   ]
  },
  {
   "cell_type": "code",
   "execution_count": 40,
   "metadata": {
    "id": "rM5ndG1M3JgQ"
   },
   "outputs": [
    {
     "name": "stdout",
     "output_type": "stream",
     "text": [
      "3\n",
      "5\n",
      "1\n"
     ]
    }
   ],
   "source": [
    "# Coding di sini ya...\n",
    "def most_frequent(nums: list[int]) -> int:\n",
    "    count = {}\n",
    "\n",
    "    for num in nums:\n",
    "        count[num] = 1 if num not in count else count[num] + 1\n",
    "    # shortcut dengan function max\n",
    "    return max(count)\n",
    "\n",
    "    # Manual dengan iterasi\n",
    "    # max = -1\n",
    "    # for i in count.keys():\n",
    "    #     if i > max:\n",
    "    #         max = i\n",
    "    # return max\n",
    "\n",
    " \n",
    "print(most_frequent([1, 2, 2, 3, 3, 3]))\n",
    "print(most_frequent([5, 5, 5, 2, 2]))\n",
    "print(most_frequent([1]))"
   ]
  },
  {
   "cell_type": "markdown",
   "metadata": {
    "id": "qdgwUzw83Nfb"
   },
   "source": [
    "---\n",
    "\n",
    "### 5. Hitung Kombinasi Dua Huruf\n",
    "Deskripsi: <br>\n",
    "Hitung berapa banyak kombinasi dua huruf berbeda dalam string.\n",
    "```\n",
    "# Fungsi: count_letter_pairs(s: str) -> int\n",
    "\n",
    "# Contoh Test:\n",
    "count_letter_pairs(\"abc\") => 3 (ab, ac, bc)\n",
    "count_letter_pairs(\"aa\") => 1\n",
    "count_letter_pairs(\"abcd\") => 6\n",
    "\n",
    "```"
   ]
  },
  {
   "cell_type": "code",
   "execution_count": 93,
   "metadata": {
    "id": "LCKiiDb-3UhL"
   },
   "outputs": [
    {
     "name": "stdout",
     "output_type": "stream",
     "text": [
      "3\n",
      "1\n",
      "6\n"
     ]
    }
   ],
   "source": [
    "# Coding di sini ya...\n",
    "def count_letter_pairs(s: str) -> int:\n",
    "    result = []\n",
    "\n",
    "    for i in range(len(s)):\n",
    "        for j in range(i + 1,len(s)):\n",
    "            result.append(s[i] + s[j])\n",
    "    return len(result)\n",
    "\n",
    "print(count_letter_pairs(\"abc\"))\n",
    "print(count_letter_pairs(\"aa\"))\n",
    "print(count_letter_pairs(\"abcd\"))"
   ]
  },
  {
   "cell_type": "markdown",
   "metadata": {
    "id": "m9L1WfL73XEl"
   },
   "source": [
    "---\n",
    "\n",
    "### 6. Pasangan Karakter Sama\n",
    "Deskripsi: <br>\n",
    "Hitung jumlah pasangan karakter yang identik dalam string (terlepas dari posisi).\n",
    "```\n",
    "# Fungsi: count_same_char_pairs(s: str) -> int\n",
    "\n",
    "# Contoh Test:\n",
    "count_same_char_pairs(\"aabb\") => 2 (aa, bb)\n",
    "count_same_char_pairs(\"abc\") => 0\n",
    "count_same_char_pairs(\"aaa\") => 3 (aa, aa, aa)\n",
    "\n",
    "```"
   ]
  },
  {
   "cell_type": "code",
   "execution_count": 99,
   "metadata": {
    "id": "WH-LrXbf3lS-"
   },
   "outputs": [
    {
     "name": "stdout",
     "output_type": "stream",
     "text": [
      "2\n",
      "0\n",
      "3\n"
     ]
    }
   ],
   "source": [
    "# Coding di sini ya...\n",
    "def count_same_char_pairs(s: str) -> int:\n",
    "    result = []\n",
    "    count = 0\n",
    "\n",
    "    for i in range(len(s)):\n",
    "        for j in range(i + 1, len(s)):\n",
    "            result.append(s[i] + s[j])\n",
    "    for char in result:\n",
    "        if char[0] == char[1]:\n",
    "            count += 1\n",
    "    return count\n",
    "\n",
    "print(count_same_char_pairs(\"aabb\"))\n",
    "print(count_same_char_pairs(\"abc\"))\n",
    "print(count_same_char_pairs(\"aaa\"))"
   ]
  },
  {
   "cell_type": "markdown",
   "metadata": {
    "id": "6LUfRx0_3n2P"
   },
   "source": [
    "---\n",
    "\n",
    "### 7. Subarray dengan Jumlah Genap\n",
    "Deskripsi: <br>\n",
    "Hitung berapa banyak subarray (kontinu) yang jumlahnya genap.\n",
    "```\n",
    "# Fungsi: count_even_sum_subarrays(arr: List[int]) -> int\n",
    "\n",
    "# Contoh Test:\n",
    "count_even_sum_subarrays([1, 2, 3]) => 2 ([1, 2, 3] dan [2])\n",
    "count_even_sum_subarrays([2, 2]) => 3 ([2], [2], [2, 2])\n",
    "\n",
    "```"
   ]
  },
  {
   "cell_type": "code",
   "execution_count": 118,
   "metadata": {
    "id": "GZhi2X5o30Mv"
   },
   "outputs": [
    {
     "name": "stdout",
     "output_type": "stream",
     "text": [
      "3\n",
      "3\n"
     ]
    }
   ],
   "source": [
    "# Coding di sini ya...\n",
    "from functools import reduce\n",
    "\n",
    "def count_even_sum_subarrays(arr: list[int]) -> int:\n",
    "    result = []\n",
    "    \n",
    "    for i in range(len(arr)):\n",
    "        if reduce(lambda x,y: x + y,[arr[i]]) % 2 == 0:\n",
    "            result.append([arr[i]])\n",
    "        for j in range(i + 1, len(arr)):\n",
    "            if reduce(lambda x,y: x + y, [arr[i]] + arr[j:]) % 2 == 0:\n",
    "                result.append([arr[i]] + arr[j:])\n",
    "    \n",
    "    return len(result)\n",
    "\n",
    "print(count_even_sum_subarrays([1, 2, 3]))\n",
    "print(count_even_sum_subarrays([2,2]))"
   ]
  },
  {
   "cell_type": "markdown",
   "metadata": {
    "id": "ZbLxBy8V37lU"
   },
   "source": [
    "---\n",
    "\n",
    "### 8. Huruf Paling Umum\n",
    "Deskripsi: <br>\n",
    "Dari sebuah string, cari huruf yang paling sering muncul.\n",
    "```\n",
    "# Fungsi: most_common_char(s: str) -> str\n",
    "\n",
    "# Contoh Test:\n",
    "most_common_char(\"banana\") => 'a'\n",
    "most_common_char(\"mississippi\") => 'i'\n",
    "\n",
    "```"
   ]
  },
  {
   "cell_type": "code",
   "execution_count": 46,
   "metadata": {
    "id": "hUDsMaSq4DNr"
   },
   "outputs": [
    {
     "name": "stdout",
     "output_type": "stream",
     "text": [
      "a\n",
      "i\n"
     ]
    }
   ],
   "source": [
    "# Coding di sini ya...\n",
    "def most_common_char(s: str) -> str:\n",
    "    count = {}\n",
    "\n",
    "    for char in s:\n",
    "        count[char] = 1 if char not in count else count[char] + 1\n",
    "    \n",
    "    max = -1\n",
    "    result = str()\n",
    "    for word in count.keys():\n",
    "        if count[word] > max:\n",
    "            max = count[word]\n",
    "            result = word\n",
    "    return result\n",
    "    \n",
    "print(most_common_char(\"banana\"))\n",
    "print(most_common_char(\"mississippi\"))\n"
   ]
  },
  {
   "cell_type": "markdown",
   "metadata": {
    "id": "ZtkQXNBB4Gsr"
   },
   "source": [
    "---\n",
    "\n",
    "### 9. Cek Semua Kombinasi Penjumlahan\n",
    "Deskripsi: <br>\n",
    "Cek apakah ada tiga angka di dalam list yang jika dijumlahkan sama dengan target.\n",
    "```\n",
    "# Fungsi: find_triplet_sum(nums: List[int], target: int) -> bool\n",
    "\n",
    "# Contoh Test:\n",
    "find_triplet_sum([1, 2, 3, 4, 5], 9) => True (2+3+4)\n",
    "find_triplet_sum([1, 2], 3) => False\n",
    "\n",
    "```"
   ]
  },
  {
   "cell_type": "code",
   "execution_count": 71,
   "metadata": {
    "id": "7P8jT2934LyZ"
   },
   "outputs": [
    {
     "name": "stdout",
     "output_type": "stream",
     "text": [
      "(0, 1, 2): (1, 2, 3): 6 != 9\n",
      "(0, 1, 3): (1, 2, 4): 7 != 9\n",
      "(0, 1, 4): (1, 2, 5): 8 != 9\n",
      "(0, 2, 3): (1, 3, 4): 8 != 9\n",
      "(0, 2, 4): (1, 3, 5): 9 = 9\n",
      "True\n",
      "(0, 1, 2): (1, 2, 3): 6 != 3\n",
      "False\n"
     ]
    }
   ],
   "source": [
    "# Coding di sini ya...\n",
    "from functools import reduce\n",
    "\n",
    "def find_triplet_sum(nums: list[int], target: int) -> bool:\n",
    "    for first_arrow in range(len(nums)):\n",
    "        for second_arrow in range(first_arrow + 1, len(nums)):\n",
    "            for main_arrow in range(second_arrow + 1, len(nums)):\n",
    "                if reduce(lambda x,y: x + y,[nums[first_arrow], nums[second_arrow], nums[main_arrow]]) == target:\n",
    "                    print(f\"{first_arrow, second_arrow, main_arrow}: {nums[first_arrow], nums[second_arrow], nums[main_arrow]}: {reduce(lambda x,y: x + y,[nums[first_arrow], nums[second_arrow], nums[main_arrow]])} = {target}\")\n",
    "                    return True\n",
    "                else:\n",
    "                    print(f\"{first_arrow, second_arrow, main_arrow}: {nums[first_arrow], nums[second_arrow], nums[main_arrow]}: {reduce(lambda x,y: x + y,[nums[first_arrow], nums[second_arrow], nums[main_arrow]])} != {target}\")\n",
    "    return False\n",
    "\n",
    "print(find_triplet_sum([1,2,3,4,5], 9))\n",
    "print(find_triplet_sum([1,2,3], 3))"
   ]
  },
  {
   "cell_type": "markdown",
   "metadata": {
    "id": "L49V93B94OLp"
   },
   "source": [
    "---\n",
    "\n",
    "### 10. Pangkat Maksimum\n",
    "Deskripsi: <br>\n",
    "Diberikan sebuah list angka, carilah pasangan dua angka berbeda, lalu hitung hasil perpangkatan satu sama lain (a<sup>b</sup> dan b<sup>a</sup>) untuk setiap pasangan. Kembalikan nilai terbesar dari seluruh hasil tersebut."
   ]
  },
  {
   "cell_type": "code",
   "execution_count": 117,
   "metadata": {
    "id": "XBSTIkkB4Sbo"
   },
   "outputs": [
    {
     "name": "stdout",
     "output_type": "stream",
     "text": [
      "2 pangkat 3 adalah 8 dan 3 pangkat 2 adalah 9\n",
      "2 pangkat 5 adalah 32 dan 5 pangkat 2 adalah 25\n",
      "3 pangkat 5 adalah 243 dan 5 pangkat 3 adalah 125\n",
      "243\n",
      "\n",
      "1 pangkat 10 adalah 1 dan 10 pangkat 1 adalah 10\n",
      "10\n",
      "\n",
      "2 pangkat 4 adalah 16 dan 4 pangkat 2 adalah 16\n",
      "2 pangkat 8 adalah 256 dan 8 pangkat 2 adalah 64\n",
      "4 pangkat 8 adalah 65536 dan 8 pangkat 4 adalah 4096\n",
      "65536\n",
      "\n",
      "1 pangkat 2 adalah 1 dan 2 pangkat 1 adalah 2\n",
      "1 pangkat 3 adalah 1 dan 3 pangkat 1 adalah 3\n",
      "2 pangkat 3 adalah 8 dan 3 pangkat 2 adalah 9\n",
      "9\n",
      "\n"
     ]
    }
   ],
   "source": [
    "# Coding di sini ya...\n",
    "def max_exponent_pair(nums: list[int]) -> int:\n",
    "    next_check = []\n",
    "\n",
    "    for i in range(len(nums)):\n",
    "        for j in range(i+1, len(nums)):\n",
    "            print(f\"{nums[i]} pangkat {nums[j]} adalah {nums[i] ** nums[j]} dan {nums[j]} pangkat {nums[i]} adalah {nums[j] ** nums[i]}\")\n",
    "            if nums[i] ** nums[j] > nums[j] ** nums[i]:\n",
    "                next_check.append(nums[i] ** nums[j])\n",
    "            else:\n",
    "                next_check.append(nums[j] ** nums[i])\n",
    "    \n",
    "    max_num = -float('inf')\n",
    "    for max_number in next_check:\n",
    "        if max_number > max_num:\n",
    "            max_num = max_number\n",
    "    return max_num\n",
    "\n",
    "print(max_exponent_pair([2, 3, 5]), end=\"\\n\\n\")\n",
    "print(max_exponent_pair([1, 10]), end=\"\\n\\n\")\n",
    "print(max_exponent_pair([2, 4, 8]), end=\"\\n\\n\")\n",
    "print(max_exponent_pair([1, 2, 3]), end=\"\\n\\n\")"
   ]
  },
  {
   "cell_type": "markdown",
   "metadata": {
    "id": "sZfbPfyJ6MHO"
   },
   "source": [
    "---\n",
    "\n",
    "## 5 Soal Tingkat Medium — Brute Force\n",
    "Berikut adalah 5 soal medium untuk topik Brute Force. Masing-masing soal dilengkapi dengan deskripsi singkat, tujuan yang jelas, serta daftar uji coba (input dan output yang diharapkan)."
   ]
  },
  {
   "cell_type": "markdown",
   "metadata": {
    "id": "F5p51eZ46WMD"
   },
   "source": [
    "### 1. Peti Harta di Kuil Ghozz\n"
   ]
  },
  {
   "cell_type": "markdown",
   "metadata": {
    "id": "gvUMU01v6v27"
   },
   "source": [
    "Deskripsi: <br>\n",
    "Di dalam kuil kuno Ghozz, terdapat beberapa peti yang masing-masing berisi koin emas dalam jumlah berbeda. Setiap peti hanya bisa diambil seluruhnya atau tidak sama sekali. Temukan kombinasi peti yang bisa menghasilkan jumlah total koin persis seperti yang tertulis dalam gulungan suci.\n",
    "```\n",
    "Input: coins = [3, 5, 7, 9], target = 12\n",
    "Output: True\n",
    "# Penjelasan: 3 + 9 = 12\n",
    "```\n",
    "Uji Coba:\n",
    "```\n",
    "[\n",
    "    ([3, 5, 7, 9], 12, True),\n",
    "    ([1, 2, 4], 8, False),\n",
    "    ([5, 5, 10], 15, True),\n",
    "    ([2, 4, 6], 13, False),\n",
    "    ([7, 3, 2, 6], 11, True),\n",
    "]\n",
    "```"
   ]
  },
  {
   "cell_type": "code",
   "execution_count": 91,
   "metadata": {
    "id": "M9agyj-A6kbr"
   },
   "outputs": [
    {
     "name": "stdout",
     "output_type": "stream",
     "text": [
      "True\n",
      "False\n",
      "True\n",
      "False\n",
      "True\n"
     ]
    }
   ],
   "source": [
    "# Coding di sini ya\n",
    "def permutation(list):\n",
    "    if len(list) == 1:\n",
    "        return [list]\n",
    "    \n",
    "    result = []\n",
    "    for i,num in enumerate(list):\n",
    "        sisa = list[:i] + list[i + 1:]\n",
    "        for count in permutation(sisa):\n",
    "            result.append([num] + count)\n",
    "    return result\n",
    "\n",
    "def ghozz_temple(list, target):\n",
    "    test_count = permutation(list)\n",
    "    \n",
    "    count = 0\n",
    "    for char in test_count:\n",
    "        # print(f\"Char saat ini: {char}\")\n",
    "        for i in range(len(char)):\n",
    "            # print(f\"count saat ini: {count}\")\n",
    "            # print(f\"{char[i]} + {count} apakah = {target}\")\n",
    "            if char[i] + count == target:\n",
    "                # print(f\"YA!, {char[i]} + {count} apakah = {target}\")\n",
    "                return True\n",
    "            # print(f\"TIDAK, {char[i]} + {count} != {target}\")\n",
    "            count += char[i]\n",
    "        count = 0\n",
    "    return False\n",
    "\n",
    "\n",
    "print(ghozz_temple([3, 5, 7, 9], 12))\n",
    "print(ghozz_temple([1, 2, 4], 8))\n",
    "print(ghozz_temple([5, 5, 10], 15))\n",
    "print(ghozz_temple([2, 4, 6], 13))\n",
    "print(ghozz_temple([7, 3, 2, 6], 11))"
   ]
  },
  {
   "cell_type": "markdown",
   "metadata": {
    "id": "rcBCvwN761ce"
   },
   "source": [
    "---\n",
    "\n",
    "### 2. Tugas Sang Penyihir\n"
   ]
  },
  {
   "cell_type": "markdown",
   "metadata": {
    "id": "gt8ZI-7365mK"
   },
   "source": [
    "Deskripsi: <br>\n",
    "Seorang penyihir harus memilih 3 bahan ramuan dari daftar bahan yang ada, dan total bobotnya harus tidak melebihi batas maksimal sihir.\n",
    "```\n",
    "Input: items = [2, 4, 5, 6], max_weight = 12\n",
    "Output: True\n",
    "# Penjelasan: 2 + 4 + 5 = 11 ≤ 12\n",
    "```\n",
    "Uji Coba:\n",
    "```\n",
    "[\n",
    "    ([2, 4, 5, 6], 12, True),\n",
    "    ([1, 1, 1, 1], 3, True),\n",
    "    ([10, 9, 8, 7], 25, True),\n",
    "    ([3, 3, 3, 3], 9, True),\n",
    "    ([5, 6, 7], 15, False),\n",
    "]\n",
    "```"
   ]
  },
  {
   "cell_type": "code",
   "execution_count": 110,
   "metadata": {
    "id": "A8kbDv7S7pfD"
   },
   "outputs": [
    {
     "name": "stdout",
     "output_type": "stream",
     "text": [
      "2 + 4 + 5\n",
      "11 <= 12\n",
      "True\n",
      "1 + 1 + 1\n",
      "3 <= 3\n",
      "True\n",
      "10 + 8 + 7\n",
      "25 <= 25\n",
      "True\n",
      "3 + 3 + 3\n",
      "9 <= 9\n",
      "True\n",
      "False\n"
     ]
    }
   ],
   "source": [
    "# Coding di sini ya...\n",
    "def wizard_quest(numbers, maximum):\n",
    "     for first_point in range(len(numbers)):\n",
    "        #   print(f\"Ini Pertama: {numbers[first_point]}\")\n",
    "          for second_point in range(first_point + 1, len(numbers)):\n",
    "            #    print(f\"Ini Kedua: {numbers[second_point]}\")\n",
    "               for third_point in range(second_point + 1, len(numbers)):\n",
    "                    count = numbers[first_point] + numbers[second_point] + numbers[third_point]\n",
    "                    # print(f\"Ini Ketiga: {numbers[third_point]}\")\n",
    "                    if count <= maximum:\n",
    "                         print(f\"{numbers[first_point]} + {numbers[second_point]} + {numbers[third_point]}\")\n",
    "                         print(f\"{count} <= {maximum}\")\n",
    "                         return True\n",
    "     return False\n",
    "\n",
    "print(wizard_quest([2,4,5,6], 12))\n",
    "print(wizard_quest([1,1,1,1], 3))\n",
    "print(wizard_quest([10,9,8,7], 25))\n",
    "print(wizard_quest([3,3,3,3], 9))\n",
    "print(wizard_quest([5,6,7], 15))"
   ]
  },
  {
   "cell_type": "markdown",
   "metadata": {
    "id": "uDbJFFl_7Dkn"
   },
   "source": [
    "---\n",
    "\n",
    "### 3. Kata Rahasia di Kode Elven\n"
   ]
  },
  {
   "cell_type": "markdown",
   "metadata": {
    "id": "lDMqSEZS7MGG"
   },
   "source": [
    "Deskripsi: <br>\n",
    "Elven memiliki daftar kata, dan mereka percaya kata yang dapat dibentuk dari kombinasi huruf acak tertentu adalah kata sakral. Cari apakah minimal satu kata dari daftar bisa dibentuk dari huruf-huruf acak yang diberikan.\n",
    "```\n",
    "Input: letters = \"epal\", words = [\"pale\", \"lap\", \"pea\"]\n",
    "Output: True\n",
    "# “lap” bisa dibentuk\n",
    "```\n",
    "Uji Coba:\n",
    "```\n",
    "[\n",
    "    (\"epal\", [\"pale\", \"lap\", \"pea\"], True),\n",
    "    (\"abcd\", [\"dog\", \"cat\", \"bat\"], False),\n",
    "    (\"orknb\", [\"born\", \"book\", \"barn\"], True),\n",
    "    (\"ghftr\", [\"grit\", \"hit\"], False),\n",
    "    (\"qwerty\", [\"wet\", \"try\", \"yet\"], True),\n",
    "]\n",
    "```"
   ]
  },
  {
   "cell_type": "code",
   "execution_count": null,
   "metadata": {
    "id": "J0Ukwu7z7nSl"
   },
   "outputs": [
    {
     "name": "stdout",
     "output_type": "stream",
     "text": [
      "\n",
      "Cek o dalam orknb dengan b di born\n",
      "\n",
      "Apakah o == b ?\n",
      "TIDAK o != b\n",
      "\n",
      "Cek r dalam orknb dengan b di born\n",
      "\n",
      "Apakah r == b ?\n",
      "TIDAK r != b\n",
      "\n",
      "Cek k dalam orknb dengan b di born\n",
      "\n",
      "Apakah k == b ?\n",
      "TIDAK k != b\n",
      "\n",
      "Cek n dalam orknb dengan b di born\n",
      "\n",
      "Apakah n == b ?\n",
      "TIDAK n != b\n",
      "\n",
      "Cek b dalam orknb dengan b di born\n",
      "\n",
      "Apakah b == b ?\n",
      "YA b == b\n",
      "Masuk ke -> b\n",
      "Hasil Akhir: b\n",
      "Apakah b == born\n",
      "\n",
      "Cek o dalam orknb dengan o di born\n",
      "\n",
      "Apakah o == o ?\n",
      "YA o == o\n",
      "Masuk ke -> bo\n",
      "Hasil Akhir: bo\n",
      "Apakah bo == born\n",
      "\n",
      "Cek o dalam orknb dengan r di born\n",
      "\n",
      "Apakah o == r ?\n",
      "TIDAK o != r\n",
      "\n",
      "Cek r dalam orknb dengan r di born\n",
      "\n",
      "Apakah r == r ?\n",
      "YA r == r\n",
      "Masuk ke -> bor\n",
      "Hasil Akhir: bor\n",
      "Apakah bor == born\n",
      "\n",
      "Cek o dalam orknb dengan n di born\n",
      "\n",
      "Apakah o == n ?\n",
      "TIDAK o != n\n",
      "\n",
      "Cek r dalam orknb dengan n di born\n",
      "\n",
      "Apakah r == n ?\n",
      "TIDAK r != n\n",
      "\n",
      "Cek k dalam orknb dengan n di born\n",
      "\n",
      "Apakah k == n ?\n",
      "TIDAK k != n\n",
      "\n",
      "Cek n dalam orknb dengan n di born\n",
      "\n",
      "Apakah n == n ?\n",
      "YA n == n\n",
      "Masuk ke -> born\n",
      "Hasil Akhir: born\n",
      "Apakah born == born\n",
      "YA, born == born\n",
      "None\n"
     ]
    }
   ],
   "source": [
    "# Coding di sini ya...\n",
    "def elvenCode(letters: str, words: list[str]):\n",
    "    checkLetters = \"\"\n",
    "\n",
    "    while index < len(words):\n",
    "        for Char in words[0]:\n",
    "            for char in letters:\n",
    "                print(f\"\\nCek {char} dalam {letters} dengan {Char} di {words[0]}\")\n",
    "                print(f\"\\nApakah {char} == {Char} ?\")\n",
    "                if char == Char:\n",
    "                    print(f\"YA {char} == {Char}\")\n",
    "                    checkLetters += char\n",
    "                    print(f\"Masuk ke -> {checkLetters}\")\n",
    "                    break\n",
    "                else:\n",
    "                    print(f\"TIDAK {char} != {Char}\")\n",
    "                    continue\n",
    "            print(\"Hasil Akhir:\",checkLetters)\n",
    "            print(f\"Apakah {checkLetters} == {words[0]}\")\n",
    "            if checkLetters == words[0]:\n",
    "                print(f\"YA, {checkLetters} == {words[0]}\")\n",
    "            else:\n",
    "                print(\"Coba elemen lainnya: index += 1\")\n",
    "                index += 1\n",
    "\n",
    "\n",
    "            \n",
    "                         \n",
    "# print(elvenCode(\"epal\", [\"pale\", \"lap\", \"pea\"]))\n",
    "# print(elvenCode(\"abcd\", [\"dog\", \"cat\", \"bat\"]))\n",
    "print(elvenCode(\"orknb\", [\"born\", \"book\", \"barn\"]))\n",
    "# print(elvenCode(\"ghftr\", [\"grit\", \"hit\"]))\n",
    "# print(elvenCode(\"qwerty\", [\"wet\", \"try\", \"yet\"]))"
   ]
  },
  {
   "cell_type": "markdown",
   "metadata": {
    "id": "tZkUBaOh7UNr"
   },
   "source": [
    "---\n",
    "\n",
    "### 4. Puzzle Runik\n"
   ]
  },
  {
   "cell_type": "markdown",
   "metadata": {
    "id": "G-6if4ak7ahP"
   },
   "source": [
    "Deskripsi: <br>\n",
    "Sebuah papan rune terdiri dari angka acak. Kamu harus menemukan apakah terdapat 4 angka yang jika dijumlahkan sama dengan angka sakral tertentu.\n",
    "```\n",
    "Input: runes = [1, 2, 3, 4, 5, 6], sacred = 14\n",
    "Output: True\n",
    "# 1 + 2 + 5 + 6 = 14\n",
    "```\n",
    "Uji Coba:\n",
    "```\n",
    "[\n",
    "    ([1, 2, 3, 4, 5, 6], 14, True),\n",
    "    ([4, 3, 2, 1], 11, False),\n",
    "    ([10, 2, 5, 7, 8], 30, False),\n",
    "    ([6, 1, 2, 3, 4], 10, True),\n",
    "    ([5, 5, 5, 5, 5], 20, True),\n",
    "]\n",
    "\n",
    "```"
   ]
  },
  {
   "cell_type": "code",
   "execution_count": null,
   "metadata": {
    "id": "lio3dyFD7klX"
   },
   "outputs": [],
   "source": [
    "# Coding di sini ya..\n",
    "\n"
   ]
  },
  {
   "cell_type": "markdown",
   "metadata": {
    "id": "uMVDX9og7kAH"
   },
   "source": [
    "---\n",
    "\n",
    "### 5. Permen Ajaib"
   ]
  },
  {
   "cell_type": "markdown",
   "metadata": {
    "id": "xllxELf17zB0"
   },
   "source": [
    "Deskripsi: <br>\n",
    "Ada beberapa jenis permen, masing-masing memiliki nilai energi. Kombinasi 2 permen yang memiliki nilai energi genap akan membuka pintu ke dimensi rahasia. Cek apakah ada kombinasi 2 yang energinya genap.\n",
    "```\n",
    "Input: candies = [1, 3, 5, 7, 2]\n",
    "Output: True\n",
    "# 2 + 2 = 4 (ada satu 2 yang digabungkan dengan dirinya)\n",
    "```\n",
    "Uji Coba:\n",
    "```\n",
    "[\n",
    "    ([1, 3, 5, 7], False),\n",
    "    ([1, 2, 3], True),\n",
    "    ([2, 2], True),\n",
    "    ([5, 9, 11], False),\n",
    "    ([4, 6, 8], True),\n",
    "]\n",
    "```"
   ]
  },
  {
   "cell_type": "code",
   "execution_count": null,
   "metadata": {
    "id": "MBg5ibB9754w"
   },
   "outputs": [],
   "source": [
    "# Coding di sini ya..."
   ]
  },
  {
   "cell_type": "markdown",
   "metadata": {
    "id": "sjeSdPY9796B"
   },
   "source": [
    "---\n",
    "\n",
    "## 5 Soal Tingkat Sulit — Brute Force\n",
    "Berikut adalah 5 soal medium untuk topik Brute Force. Masing-masing soal dilengkapi dengan deskripsi singkat, tujuan yang jelas, serta daftar uji coba (input dan output yang diharapkan)."
   ]
  },
  {
   "cell_type": "markdown",
   "metadata": {
    "id": "wAiZ1y188Hbh"
   },
   "source": [
    "### 1. Permainan Siluman\n"
   ]
  },
  {
   "cell_type": "markdown",
   "metadata": {
    "id": "D2rrJuqp_Zqj"
   },
   "source": [
    "Deskripsi: <br>\n",
    "Dalam sebuah arena siluman, kamu memiliki kekuatan yang dapat menyerang beberapa target sekaligus. Tapi kamu hanya bisa menyerang satu subset dari target yang kekuatannya jika dijumlahkan menghasilkan bilangan prima. Cari jumlah kemungkinan subset unik (non-empty) yang totalnya bilangan prima.\n",
    "```\n",
    "Input: powers = [1, 2, 3]\n",
    "Output: 4\n",
    "# [1,2], [2,3], [1,2,3], [2]\n",
    "```\n",
    "Uji Coba:\n",
    "```\n",
    "[\n",
    "    ([1, 2, 3], 4),\n",
    "    ([2, 2, 2], 4),\n",
    "    ([1], 0),\n",
    "    ([4, 6], 0),\n",
    "    ([3, 5, 7], 6),\n",
    "]\n",
    "```"
   ]
  },
  {
   "cell_type": "code",
   "execution_count": null,
   "metadata": {
    "id": "Fe_AN_L1_o0B"
   },
   "outputs": [],
   "source": [
    "# Coding di sini ya..."
   ]
  },
  {
   "cell_type": "markdown",
   "metadata": {
    "id": "B4TqjQvL_peM"
   },
   "source": [
    "---\n",
    "\n",
    "### 2. Gerbang Dimensi\n"
   ]
  },
  {
   "cell_type": "markdown",
   "metadata": {
    "id": "IzzH-0pU_uxl"
   },
   "source": [
    "Deskripsi: <br>\n",
    "Untuk membuka gerbang dimensi, dibutuhkan 3 angka dari daftar yang jika digabungkan angkanya (sebagai string) menghasilkan palindrom.\n",
    "```\n",
    "Input: runes = [1, 21, 12, 11]\n",
    "Output: True\n",
    "# 1 + 21 + 12 → “12112” → palindrom\n",
    "```\n",
    "Uji Coba:\n",
    "```\n",
    "[\n",
    "    ([1, 21, 12, 11], True),\n",
    "    ([3, 33, 7], False),\n",
    "    ([4, 44, 4], True),\n",
    "    ([1, 2, 3], False),\n",
    "    ([7, 77, 7], True),\n",
    "]\n",
    "```"
   ]
  },
  {
   "cell_type": "code",
   "execution_count": null,
   "metadata": {
    "id": "UarCdvK0_yrr"
   },
   "outputs": [],
   "source": [
    "# Coding di sini ya...\n",
    "\n"
   ]
  },
  {
   "cell_type": "markdown",
   "metadata": {
    "id": "Kd_KZrey_0hJ"
   },
   "source": [
    "---\n",
    "\n",
    "### 3. Kunci Labirin Kristal\n"
   ]
  },
  {
   "cell_type": "markdown",
   "metadata": {
    "id": "XVgQnALQ_6Ve"
   },
   "source": [
    "Deskripsi: <br>\n",
    "Labirin kuno memiliki pola kunci yang hanya dapat dibuka jika kamu dapat membentuk kombinasi huruf yang hasilnya adalah anagram dari mantra rahasia. Temukan apakah mungkin membuat anagram tersebut dari kombinasi huruf yang ada.\n",
    "```\n",
    "Input: letters = [\"m\", \"a\", \"g\", \"i\", \"c\"], target = \"gamic\"\n",
    "Output: True\n",
    "```\n",
    "Uji Coba:\n",
    "```\n",
    "[\n",
    "    ([\"m\", \"a\", \"g\", \"i\", \"c\"], \"gamic\", True),\n",
    "    ([\"a\", \"b\", \"c\", \"d\"], \"abcd\", True),\n",
    "    ([\"x\", \"y\", \"z\"], \"zyx\", True),\n",
    "    ([\"l\", \"o\", \"v\", \"e\"], \"vole\", True),\n",
    "    ([\"h\", \"e\", \"l\", \"p\"], \"hello\", False),\n",
    "]\n",
    "```"
   ]
  },
  {
   "cell_type": "code",
   "execution_count": null,
   "metadata": {
    "id": "T3_8LSnL_-wX"
   },
   "outputs": [],
   "source": [
    "# Coding di sini ya...\n",
    "\n"
   ]
  },
  {
   "cell_type": "markdown",
   "metadata": {
    "id": "K7WDwo09ABll"
   },
   "source": [
    "---\n",
    "\n",
    "### 4. Pasukan Golem\n"
   ]
  },
  {
   "cell_type": "markdown",
   "metadata": {
    "id": "e-rCxhNFAHmR"
   },
   "source": [
    "Deskripsi: <br>\n",
    "Kamu harus memilih pasukan dengan total kekuatan tepat K, tetapi tidak boleh memilih lebih dari satu pasukan dengan kekuatan yang sama. Berapa banyak kombinasi unik yang mungkin?\n",
    "```\n",
    "Input: forces = [1, 2, 3, 4, 5], k = 5\n",
    "Output: 3\n",
    "# (1+4), (2+3), (5)\n",
    "```\n",
    "Uji Coba:\n",
    "```\n",
    "[\n",
    "    ([1, 2, 3, 4, 5], 5, 3),\n",
    "    ([2, 2, 2], 4, 1),\n",
    "    ([1, 1, 1], 3, 1),\n",
    "    ([1, 3, 5, 7], 8, 2),\n",
    "    ([10], 10, 1),\n",
    "]\n",
    "```"
   ]
  },
  {
   "cell_type": "code",
   "execution_count": null,
   "metadata": {
    "id": "IE8srDUgAKY9"
   },
   "outputs": [],
   "source": [
    "# Coding di sini ya..."
   ]
  },
  {
   "cell_type": "markdown",
   "metadata": {
    "id": "mStit0eKAMTa"
   },
   "source": [
    "---\n",
    "### 5. Kristal Penentu Takdir\n"
   ]
  },
  {
   "cell_type": "markdown",
   "metadata": {
    "id": "auTSWTBIARZH"
   },
   "source": [
    "Deskripsi: <br>\n",
    "Ada N kristal, masing-masing memiliki simbol. Tugasmu adalah mencari kombinasi 3 kristal yang jika disusun, akan membentuk palindrom. Return semua kombinasi yang valid.\n",
    "```\n",
    "Input: crystals = [\"a\", \"b\", \"a\", \"c\"]\n",
    "Output: [(\"a\", \"b\", \"a\")]\n",
    "```\n",
    "Uji Coba:\n",
    "```\n",
    "[\n",
    "    ([\"a\", \"b\", \"a\", \"c\"], [(\"a\", \"b\", \"a\")]),\n",
    "    ([\"x\", \"y\", \"z\"], []),\n",
    "    ([\"m\", \"a\", \"m\", \"a\"], [(\"m\", \"a\", \"m\")]),\n",
    "    ([\"r\", \"a\", \"r\", \"e\"], [(\"r\", \"a\", \"r\")]),\n",
    "    ([\"a\", \"a\", \"a\"], [(\"a\", \"a\", \"a\")]),\n",
    "]\n",
    "```"
   ]
  },
  {
   "cell_type": "code",
   "execution_count": null,
   "metadata": {
    "id": "CWGWwg7qAVpF"
   },
   "outputs": [],
   "source": [
    "# Coding di sini ya...\n",
    "\n"
   ]
  },
  {
   "cell_type": "markdown",
   "metadata": {
    "id": "oFWZ3AB5Cfyx"
   },
   "source": [
    "---\n",
    "\n",
    "## 5 Soal Tingkat Extreme — Brute Force\n",
    "Berikut adalah 5 soal extreme topik Brute Force dengan cerita bertema dunia fantasi, masing-masing disertai:\n",
    "\n",
    "- Deskripsi cerita yang memperjelas tujuan.\n",
    "\n",
    "- Penjelasan bagaimana cerita berhubungan dengan soal.\n",
    "\n",
    "- Contoh input dan output.\n",
    "\n",
    "- Daftar uji coba (list of tests) untuk memverifikasi fungsi."
   ]
  },
  {
   "cell_type": "markdown",
   "metadata": {
    "id": "7D4e32PKCwyg"
   },
   "source": [
    "### Extreme 1: Permata Dimensi\n"
   ]
  },
  {
   "cell_type": "markdown",
   "metadata": {
    "id": "LTePIeLrC1oX"
   },
   "source": [
    "Deskripsi: <br>\n",
    "Di kerajaan Etherion, terdapat 12 permata dimensi. Sang penyihir agung memintamu menyusun ulang permata-permata ini agar stabilisasinya mencapai bentuk simetris antara dua sisi. Artinya, kamu harus mencari apakah mungkin membuat dua subset (jumlah sama besar) yang memiliki jumlah kekuatan total yang sama.\n",
    "\n",
    "Hubungan dengan Brute Force: <br>\n",
    "Perlu mencoba semua kemungkinan pembagian permata menjadi dua grup untuk menemukan subset dengan jumlah kekuatan yang sama.\n",
    "```\n",
    "Contoh Input:\n",
    "gems = [3, 1, 4, 2, 2]\n",
    "Output:\n",
    "YES\n",
    "```\n",
    "List Uji Coba:\n",
    "```\n",
    "[\n",
    "  ([1, 5, 11, 5], \"YES\"),       # 1+5+5 == 11\n",
    "  ([1, 2, 3, 5], \"NO\"),\n",
    "  ([3, 3, 3, 4, 5], \"YES\"),     # 3+3+5 == 3+4+4 (by permutation)\n",
    "  ([1, 1, 3, 4, 7], \"YES\"),\n",
    "  ([2, 2, 2, 2, 2, 2], \"YES\")\n",
    "]\n",
    "```"
   ]
  },
  {
   "cell_type": "code",
   "execution_count": null,
   "metadata": {
    "id": "_NfavWTGDGXF"
   },
   "outputs": [],
   "source": [
    "# Coding di sini ya...\n",
    "\n"
   ]
  },
  {
   "cell_type": "markdown",
   "metadata": {
    "id": "BddPIwI8DLLg"
   },
   "source": [
    "---\n",
    "\n",
    "### Extreme 2: Rune Pengorbanan\n"
   ]
  },
  {
   "cell_type": "markdown",
   "metadata": {
    "id": "9ncidc9OFQzi"
   },
   "source": [
    "Deskripsi: <br>\n",
    "Di altar kuno, untuk membangkitkan naga tertidur, diperlukan pengorbanan dalam bentuk angka-angka sakral. Jumlah dari kombinasi angka-angka ini harus persis sama dengan angka naga kuno yang ditentukan. Temukan semua kombinasi unik dari pengorbanan.\n",
    "\n",
    "Hubungan dengan Brute Force:\n",
    "Harus mengeksplor semua subset untuk menemukan yang jumlahnya sesuai target.\n",
    "```\n",
    "Contoh Input:\n",
    "sacrifices = [2, 3, 6, 7]\n",
    "target = 7\n",
    "\n",
    "Output:\n",
    "[[7], [2, 2, 3]]\n",
    "```\n",
    "\n",
    "List Uji Coba:\n",
    "```\n",
    "[\n",
    "  ([2,3,6,7], 7, [[7], [2,2,3]]),\n",
    "  ([2,3,5], 8, [[3,5],[2,3,3]]),\n",
    "  ([1], 2, [[1,1]]),\n",
    "  ([1,2], 4, [[2,2], [1,1,2], [1,1,1,1]]),\n",
    "  ([10], 10, [[10]])\n",
    "]\n",
    "```"
   ]
  },
  {
   "cell_type": "code",
   "execution_count": null,
   "metadata": {
    "id": "ITLqpqEpFg_P"
   },
   "outputs": [],
   "source": [
    "# Coding di sini ya...\n",
    "\n"
   ]
  },
  {
   "cell_type": "markdown",
   "metadata": {
    "id": "axUkU8BwFkUs"
   },
   "source": [
    "---\n",
    "\n",
    "### Extreme 3: Pintu Labirin Terlarang"
   ]
  },
  {
   "cell_type": "markdown",
   "metadata": {
    "id": "YZRpSHMOFn76"
   },
   "source": [
    "Deskripsi: <br>\n",
    "Seorang petualang harus membuka pintu di labirin menggunakan kode urutan angka. Sayangnya, tombol pintu rusak, jadi semua kemungkinan urutan angka harus dicoba hingga kombinasi naik ditemukan.\n",
    "\n",
    "Hubungan dengan Brute Force:\n",
    "Harus mencoba semua permutasi dan mengecek apakah ada urutan yang strictly increasing.\n",
    "```\n",
    "Contoh Input:\n",
    "digits = [3, 2, 1]\n",
    "\n",
    "Output:\n",
    "NO\n",
    "```\n",
    "\n",
    "List Uji Coba:\n",
    "```\n",
    "[\n",
    "  ([1,2,3], \"YES\"),\n",
    "  ([3,2,1], \"NO\"),\n",
    "  ([1,3,2], \"YES\"),\n",
    "  ([5,4,3], \"NO\"),\n",
    "  ([2,5,4], \"YES\")\n",
    "]\n",
    "```"
   ]
  },
  {
   "cell_type": "code",
   "execution_count": null,
   "metadata": {
    "id": "O0g1_oiDF4JW"
   },
   "outputs": [],
   "source": [
    "# Coding di sini ya..."
   ]
  },
  {
   "cell_type": "markdown",
   "metadata": {
    "id": "vTnlwQASF6CV"
   },
   "source": [
    "---\n",
    "\n",
    "### Extreme 4: Benteng Simetri\n"
   ]
  },
  {
   "cell_type": "markdown",
   "metadata": {
    "id": "YkdB1bfXF_Q-"
   },
   "source": [
    "Deskripsi: <br>\n",
    "Bangsa Aranth membangun benteng pertahanan dalam formasi persegi. Agar aman dari sihir musuh, setiap sisi benteng harus punya panjang yang sama. Diberikan panjang balok yang tersedia, cari apakah mungkin membuat formasi persegi sempurna.\n",
    "\n",
    "Hubungan dengan Brute Force:\n",
    "Perlu mencoba semua kombinasi pembagian balok menjadi empat sisi dengan jumlah yang sama.\n",
    "```\n",
    "Contoh Input:\n",
    "blocks = [1,1,2,2,2]\n",
    "\n",
    "Output:\n",
    "YES\n",
    "```\n",
    "```\n",
    "List Uji Coba:\n",
    "[\n",
    "  ([1,1,2,2,2], \"YES\"),\n",
    "  ([3,3,3,3,4], \"NO\"),\n",
    "  ([1,1,1,1,1,1,1,1], \"YES\"),\n",
    "  ([5,5,5,5,4,4,4,4,3,3,3,3], \"YES\"),\n",
    "  ([1,2,3,4], \"NO\")\n",
    "]\n",
    "```"
   ]
  },
  {
   "cell_type": "code",
   "execution_count": null,
   "metadata": {
    "id": "PyKS_JV2GI6m"
   },
   "outputs": [],
   "source": [
    "# Coding di sini ya...\n",
    "\n"
   ]
  },
  {
   "cell_type": "markdown",
   "metadata": {
    "id": "KiNoQxhLGLKz"
   },
   "source": [
    "---\n",
    "\n",
    "### Extreme 5: Artefak Waktu\n"
   ]
  },
  {
   "cell_type": "markdown",
   "metadata": {
    "id": "eHxMgZhlGN3V"
   },
   "source": [
    "Deskripsi: <br>\n",
    "Seorang Chronomancer kuno ingin menyusun pecahan waktu (angka) dalam suatu urutan sehingga total waktu yang didapat adalah maksimal, namun pecahan waktu tidak boleh berdampingan. Carilah nilai maksimal yang bisa diperoleh.\n",
    "\n",
    "Hubungan dengan Brute Force:\n",
    "Perlu mencoba semua subset tanpa elemen yang berdampingan.\n",
    "```\n",
    "Contoh Input:\n",
    "time_shards = [3, 2, 5, 10, 7]\n",
    "\n",
    "Output:\n",
    "15  # (3 + 10 + 2 is invalid, but 3 + 10 or 2 + 10 + ... etc)\n",
    "```\n",
    "List Uji Coba:\n",
    "```\n",
    "[\n",
    "  ([3, 2, 5, 10, 7], 15),\n",
    "  ([5, 5, 10, 100, 10, 5], 110),\n",
    "  ([1, 2, 3], 4),\n",
    "  ([2, 1, 1, 2], 4),\n",
    "  ([10], 10)\n",
    "]\n",
    "```"
   ]
  },
  {
   "cell_type": "code",
   "execution_count": null,
   "metadata": {
    "id": "GbaFMwfEGYDB"
   },
   "outputs": [],
   "source": [
    "# Coding di sini ya...\n",
    "\n"
   ]
  }
 ],
 "metadata": {
  "colab": {
   "authorship_tag": "ABX9TyPBFptfOpCmzd7hymxLCXfM",
   "collapsed_sections": [
    "Tak9pW1g0WmD",
    "sZfbPfyJ6MHO",
    "F5p51eZ46WMD",
    "rcBCvwN761ce",
    "uDbJFFl_7Dkn",
    "tZkUBaOh7UNr",
    "sjeSdPY9796B",
    "oFWZ3AB5Cfyx",
    "7D4e32PKCwyg",
    "BddPIwI8DLLg",
    "axUkU8BwFkUs",
    "vTnlwQASF6CV",
    "KiNoQxhLGLKz"
   ],
   "provenance": []
  },
  "kernelspec": {
   "display_name": "Python 3",
   "name": "python3"
  },
  "language_info": {
   "codemirror_mode": {
    "name": "ipython",
    "version": 3
   },
   "file_extension": ".py",
   "mimetype": "text/x-python",
   "name": "python",
   "nbconvert_exporter": "python",
   "pygments_lexer": "ipython3",
   "version": "3.12.5"
  }
 },
 "nbformat": 4,
 "nbformat_minor": 0
}
